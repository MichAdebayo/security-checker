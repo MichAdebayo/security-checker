{
 "cells": [
  {
   "cell_type": "markdown",
   "id": "dbfc904a",
   "metadata": {},
   "source": [
    "# 🛠️ PPE Detection – Notebook v2\n",
    "Cette version intègre :\n",
    "- une configuration **centralisée** et dynamique (chemins adap­tables)\n",
    "- un _fine‑tuning_ YOLOv11 avec **data‑augmentation** + **early‑stopping**\n",
    "- la recherche **automatique** du meilleur poids (`best.pt`)\n",
    "- une fonction **`quick_metrics()`** qui extrait en une ligne les principales métriques Ultralytics\n",
    "- des helpers pour détection / filtrage / affichage fiables (pas de *KeyError*)"
   ]
  },
  {
   "cell_type": "code",
   "execution_count": 2,
   "id": "f3b14995",
   "metadata": {},
   "outputs": [
    {
     "name": "stdout",
     "output_type": "stream",
     "text": [
      "Torch : 2.7.1+cu118 | CUDA dispo : True\n"
     ]
    }
   ],
   "source": [
    "#!/usr/bin/env python\n",
    "import os, shutil, glob, random, json, yaml\n",
    "from pathlib import Path\n",
    "import numpy as np, pandas as pd, matplotlib.pyplot as plt, cv2, torch\n",
    "from ultralytics import YOLO\n",
    "print(f'Torch : {torch.__version__} | CUDA dispo : {torch.cuda.is_available()}')"
   ]
  },
  {
   "cell_type": "code",
   "execution_count": 3,
   "id": "97f46562",
   "metadata": {},
   "outputs": [],
   "source": [
    "class CFG:\n",
    "    # --- Chemins (à adapter) ---\n",
    "    ROOT = Path('/home/maxime/DataDevIA/computervision/security-checker')  # dossier projet\n",
    "    DATA_DIR = Path('/home/maxime/DataDevIA/computervision/datasetcomputervision/css-data')\n",
    "    WORKING = ROOT  # on garde tout dans ROOT pour simplifier\n",
    "\n",
    "    # fichiers clé\n",
    "    BASE_WEIGHTS = ROOT / 'yolo11n.pt'        # poids COCO d'origine\n",
    "    DATA_YAML    = ROOT / 'ppe.yaml'          # sera (re)créé si besoin\n",
    "\n",
    "    # hyper‑params\n",
    "    EPOCHS      = 30\n",
    "    IMG_SIZE    = 640\n",
    "    BATCH       = 12\n",
    "    DEVICE      = 'cuda' if torch.cuda.is_available() else 'cpu'\n",
    "\n",
    "    # classes PPE (index ↔ nom)\n",
    "    PPE_CLASSES = {\n",
    "        0: 'Hardhat', 1: 'Mask', 2: 'NO-Hardhat', 3: 'NO-Mask',\n",
    "        4: 'NO-Safety Vest', 5: 'Person', 6: 'Safety Cone',\n",
    "        7: 'Safety Vest', 8: 'Machinery', 9: 'Vehicle'\n",
    "    }"
   ]
  },
  {
   "cell_type": "code",
   "execution_count": 4,
   "id": "87d54ecb",
   "metadata": {},
   "outputs": [],
   "source": [
    "def quick_metrics(metrics_obj):\n",
    "    \"\"\"Affiche precision / recall / mAP50 / mAP50‑95 d'un objet DetMetrics.\"\"\"\n",
    "    res = metrics_obj.results_dict\n",
    "    print('\\n📊 Quick metrics')\n",
    "    print(f\"Precision   : {res['metrics/precision(B)']:.3f}\")\n",
    "    print(f\"Recall      : {res['metrics/recall(B)']:.3f}\")\n",
    "    print(f\"mAP50       : {res['metrics/mAP50(B)']:.3f}\")\n",
    "    print(f\"mAP50‑95    : {res['metrics/mAP50-95(B)']:.3f}\")"
   ]
  },
  {
   "cell_type": "code",
   "execution_count": 5,
   "id": "b1454051",
   "metadata": {},
   "outputs": [],
   "source": [
    "def clean_runs():\n",
    "    runs_dir = CFG.WORKING / 'runs'\n",
    "    if runs_dir.exists():\n",
    "        print('♻️ Suppression de', runs_dir)\n",
    "        shutil.rmtree(runs_dir)\n",
    "    else:\n",
    "        print('runs/ déjà vide')"
   ]
  },
  {
   "cell_type": "code",
   "execution_count": null,
   "id": "8931cd14",
   "metadata": {},
   "outputs": [
    {
     "name": "stdout",
     "output_type": "stream",
     "text": [
      "ppe.yaml trouvé -> /home/maxime/DataDevIA/computervision/security-checker/ppe.yaml\n"
     ]
    }
   ],
   "source": [
    "def ensure_yaml():\n",
    "    if not CFG.DATA_YAML.exists():\n",
    "        data = {\n",
    "            'path': str(CFG.DATA_DIR),\n",
    "            'train': 'train/images',\n",
    "            'val'  : 'valid/images',\n",
    "            'test' : 'test/images',\n",
    "            'names': list(CFG.PPE_CLASSES.values())\n",
    "        }\n",
    "        with open(CFG.DATA_YAML, 'w') as f:\n",
    "            yaml.safe_dump(data, f)\n",
    "        print('✅ ppe.yaml créé ->', CFG.DATA_YAML)\n",
    "    else:\n",
    "        print('ppe.yaml trouvé ->', CFG.DATA_YAML)\n",
    "\n",
    "ensure_yaml()"
   ]
  },
  {
   "cell_type": "markdown",
   "id": "e6fda542",
   "metadata": {},
   "source": [
    "## 🚂 Fine‑tuning du modèle PPE"
   ]
  },
  {
   "cell_type": "code",
   "execution_count": 7,
   "id": "9d762aed",
   "metadata": {},
   "outputs": [
    {
     "name": "stdout",
     "output_type": "stream",
     "text": [
      "♻️ Suppression de /home/maxime/DataDevIA/computervision/security-checker/runs\n",
      "Ultralytics 8.3.151 🚀 Python-3.12.3 torch-2.7.1+cu118 CUDA:0 (NVIDIA GeForce RTX 3060 Laptop GPU, 5931MiB)\n",
      "\u001b[34m\u001b[1mengine/trainer: \u001b[0magnostic_nms=False, amp=True, augment=False, auto_augment=randaugment, batch=12, bgr=0.0, box=7.5, cache=False, cfg=None, classes=None, close_mosaic=10, cls=0.5, conf=None, copy_paste=0.0, copy_paste_mode=flip, cos_lr=False, cutmix=0.0, data=/home/maxime/DataDevIA/computervision/security-checker/ppe.yaml, degrees=0.0, deterministic=True, device=0, dfl=1.5, dnn=False, dropout=0.0, dynamic=False, embed=None, epochs=30, erasing=0.4, exist_ok=False, fliplr=0.5, flipud=0.2, format=torchscript, fraction=1.0, freeze=None, half=False, hsv_h=0.015, hsv_s=0.7, hsv_v=0.4, imgsz=640, int8=False, iou=0.7, keras=False, kobj=1.0, line_width=None, lr0=0.01, lrf=0.01, mask_ratio=4, max_det=300, mixup=0.2, mode=train, model=/home/maxime/DataDevIA/computervision/security-checker/yolo11n.pt, momentum=0.937, mosaic=0.8, multi_scale=False, name=ppe_train, nbs=64, nms=False, opset=None, optimize=False, optimizer=auto, overlap_mask=True, patience=10, perspective=0.0, plots=True, pose=12.0, pretrained=True, profile=False, project=/home/maxime/DataDevIA/computervision/security-checker/runs/detect, rect=False, resume=False, retina_masks=False, save=True, save_conf=False, save_crop=False, save_dir=/home/maxime/DataDevIA/computervision/security-checker/runs/detect/ppe_train, save_frames=False, save_json=False, save_period=-1, save_txt=False, scale=0.5, seed=0, shear=0.0, show=False, show_boxes=True, show_conf=True, show_labels=True, simplify=True, single_cls=False, source=None, split=val, stream_buffer=False, task=detect, time=None, tracker=botsort.yaml, translate=0.1, val=True, verbose=True, vid_stride=1, visualize=False, warmup_bias_lr=0.1, warmup_epochs=3.0, warmup_momentum=0.8, weight_decay=0.0005, workers=8, workspace=None\n",
      "Overriding model.yaml nc=80 with nc=10\n",
      "\n",
      "                   from  n    params  module                                       arguments                     \n",
      "  0                  -1  1       464  ultralytics.nn.modules.conv.Conv             [3, 16, 3, 2]                 \n",
      "  1                  -1  1      4672  ultralytics.nn.modules.conv.Conv             [16, 32, 3, 2]                \n",
      "  2                  -1  1      6640  ultralytics.nn.modules.block.C3k2            [32, 64, 1, False, 0.25]      \n",
      "  3                  -1  1     36992  ultralytics.nn.modules.conv.Conv             [64, 64, 3, 2]                \n",
      "  4                  -1  1     26080  ultralytics.nn.modules.block.C3k2            [64, 128, 1, False, 0.25]     \n",
      "  5                  -1  1    147712  ultralytics.nn.modules.conv.Conv             [128, 128, 3, 2]              \n",
      "  6                  -1  1     87040  ultralytics.nn.modules.block.C3k2            [128, 128, 1, True]           \n",
      "  7                  -1  1    295424  ultralytics.nn.modules.conv.Conv             [128, 256, 3, 2]              \n",
      "  8                  -1  1    346112  ultralytics.nn.modules.block.C3k2            [256, 256, 1, True]           \n",
      "  9                  -1  1    164608  ultralytics.nn.modules.block.SPPF            [256, 256, 5]                 \n",
      " 10                  -1  1    249728  ultralytics.nn.modules.block.C2PSA           [256, 256, 1]                 \n",
      " 11                  -1  1         0  torch.nn.modules.upsampling.Upsample         [None, 2, 'nearest']          \n",
      " 12             [-1, 6]  1         0  ultralytics.nn.modules.conv.Concat           [1]                           \n",
      " 13                  -1  1    111296  ultralytics.nn.modules.block.C3k2            [384, 128, 1, False]          \n",
      " 14                  -1  1         0  torch.nn.modules.upsampling.Upsample         [None, 2, 'nearest']          \n",
      " 15             [-1, 4]  1         0  ultralytics.nn.modules.conv.Concat           [1]                           \n",
      " 16                  -1  1     32096  ultralytics.nn.modules.block.C3k2            [256, 64, 1, False]           \n",
      " 17                  -1  1     36992  ultralytics.nn.modules.conv.Conv             [64, 64, 3, 2]                \n",
      " 18            [-1, 13]  1         0  ultralytics.nn.modules.conv.Concat           [1]                           \n",
      " 19                  -1  1     86720  ultralytics.nn.modules.block.C3k2            [192, 128, 1, False]          \n",
      " 20                  -1  1    147712  ultralytics.nn.modules.conv.Conv             [128, 128, 3, 2]              \n",
      " 21            [-1, 10]  1         0  ultralytics.nn.modules.conv.Concat           [1]                           \n",
      " 22                  -1  1    378880  ultralytics.nn.modules.block.C3k2            [384, 256, 1, True]           \n",
      " 23        [16, 19, 22]  1    432622  ultralytics.nn.modules.head.Detect           [10, [64, 128, 256]]          \n",
      "YOLO11n summary: 181 layers, 2,591,790 parameters, 2,591,774 gradients, 6.5 GFLOPs\n",
      "\n",
      "Transferred 448/499 items from pretrained weights\n",
      "Freezing layer 'model.23.dfl.conv.weight'\n",
      "\u001b[34m\u001b[1mAMP: \u001b[0mrunning Automatic Mixed Precision (AMP) checks...\n",
      "\u001b[34m\u001b[1mAMP: \u001b[0mchecks passed ✅\n",
      "\u001b[34m\u001b[1mtrain: \u001b[0mFast image access ✅ (ping: 0.0±0.0 ms, read: 245.0±37.4 MB/s, size: 55.4 KB)\n"
     ]
    },
    {
     "name": "stderr",
     "output_type": "stream",
     "text": [
      "\u001b[34m\u001b[1mtrain: \u001b[0mScanning /home/maxime/DataDevIA/computervision/datasetcomputervision/css-data/train/labels.cache... 2605 images, 6 backgrounds, 0 corrupt: 100%|██████████| 2605/2605 [00:00<?, ?it/s]"
     ]
    },
    {
     "name": "stdout",
     "output_type": "stream",
     "text": [
      "\u001b[34m\u001b[1mtrain: \u001b[0m/home/maxime/DataDevIA/computervision/datasetcomputervision/css-data/train/images/004720_jpg.rf.afc486560a4004c7cfd67910af31a29c.jpg: 1 duplicate labels removed\n",
      "\u001b[34m\u001b[1mtrain: \u001b[0m/home/maxime/DataDevIA/computervision/datasetcomputervision/css-data/train/images/construction-813-_jpg.rf.b085952261fd98f2e76b8065de149b5f.jpg: 1 duplicate labels removed\n"
     ]
    },
    {
     "name": "stderr",
     "output_type": "stream",
     "text": [
      "\n"
     ]
    },
    {
     "name": "stdout",
     "output_type": "stream",
     "text": [
      "\u001b[34m\u001b[1mval: \u001b[0mFast image access ✅ (ping: 0.0±0.0 ms, read: 162.7±41.5 MB/s, size: 52.1 KB)\n"
     ]
    },
    {
     "name": "stderr",
     "output_type": "stream",
     "text": [
      "\u001b[34m\u001b[1mval: \u001b[0mScanning /home/maxime/DataDevIA/computervision/datasetcomputervision/css-data/valid/labels.cache... 114 images, 10 backgrounds, 0 corrupt: 100%|██████████| 114/114 [00:00<?, ?it/s]\n"
     ]
    },
    {
     "name": "stdout",
     "output_type": "stream",
     "text": [
      "Plotting labels to /home/maxime/DataDevIA/computervision/security-checker/runs/detect/ppe_train/labels.jpg... \n",
      "\u001b[34m\u001b[1moptimizer:\u001b[0m 'optimizer=auto' found, ignoring 'lr0=0.01' and 'momentum=0.937' and determining best 'optimizer', 'lr0' and 'momentum' automatically... \n",
      "\u001b[34m\u001b[1moptimizer:\u001b[0m AdamW(lr=0.000714, momentum=0.9) with parameter groups 81 weight(decay=0.0), 88 weight(decay=0.00046875), 87 bias(decay=0.0)\n",
      "Image sizes 640 train, 640 val\n",
      "Using 8 dataloader workers\n",
      "Logging results to \u001b[1m/home/maxime/DataDevIA/computervision/security-checker/runs/detect/ppe_train\u001b[0m\n",
      "Starting training for 30 epochs...\n",
      "\n",
      "      Epoch    GPU_mem   box_loss   cls_loss   dfl_loss  Instances       Size\n"
     ]
    },
    {
     "name": "stderr",
     "output_type": "stream",
     "text": [
      "       1/30      2.38G      1.588      3.296      1.637         26        640: 100%|██████████| 218/218 [00:25<00:00,  8.48it/s]\n",
      "                 Class     Images  Instances      Box(P          R      mAP50  mAP50-95): 100%|██████████| 5/5 [00:00<00:00,  7.38it/s]"
     ]
    },
    {
     "name": "stdout",
     "output_type": "stream",
     "text": [
      "                   all        114        697      0.408      0.296      0.266      0.119\n"
     ]
    },
    {
     "name": "stderr",
     "output_type": "stream",
     "text": [
      "\n"
     ]
    },
    {
     "name": "stdout",
     "output_type": "stream",
     "text": [
      "\n",
      "      Epoch    GPU_mem   box_loss   cls_loss   dfl_loss  Instances       Size\n"
     ]
    },
    {
     "name": "stderr",
     "output_type": "stream",
     "text": [
      "       2/30      2.63G      1.525      2.266      1.616         36        640: 100%|██████████| 218/218 [00:23<00:00,  9.43it/s]\n",
      "                 Class     Images  Instances      Box(P          R      mAP50  mAP50-95): 100%|██████████| 5/5 [00:00<00:00,  8.69it/s]"
     ]
    },
    {
     "name": "stdout",
     "output_type": "stream",
     "text": [
      "                   all        114        697      0.499      0.404      0.412      0.188\n"
     ]
    },
    {
     "name": "stderr",
     "output_type": "stream",
     "text": [
      "\n"
     ]
    },
    {
     "name": "stdout",
     "output_type": "stream",
     "text": [
      "\n",
      "      Epoch    GPU_mem   box_loss   cls_loss   dfl_loss  Instances       Size\n"
     ]
    },
    {
     "name": "stderr",
     "output_type": "stream",
     "text": [
      "       3/30      2.93G      1.462      2.056      1.591         24        640: 100%|██████████| 218/218 [00:22<00:00,  9.55it/s]\n",
      "                 Class     Images  Instances      Box(P          R      mAP50  mAP50-95): 100%|██████████| 5/5 [00:00<00:00,  8.53it/s]"
     ]
    },
    {
     "name": "stdout",
     "output_type": "stream",
     "text": [
      "                   all        114        697      0.628      0.425      0.447      0.186\n"
     ]
    },
    {
     "name": "stderr",
     "output_type": "stream",
     "text": [
      "\n"
     ]
    },
    {
     "name": "stdout",
     "output_type": "stream",
     "text": [
      "\n",
      "      Epoch    GPU_mem   box_loss   cls_loss   dfl_loss  Instances       Size\n"
     ]
    },
    {
     "name": "stderr",
     "output_type": "stream",
     "text": [
      "       4/30      2.51G      1.442      1.978      1.573         17        640: 100%|██████████| 218/218 [00:22<00:00,  9.57it/s]\n",
      "                 Class     Images  Instances      Box(P          R      mAP50  mAP50-95): 100%|██████████| 5/5 [00:00<00:00,  8.94it/s]\n"
     ]
    },
    {
     "name": "stdout",
     "output_type": "stream",
     "text": [
      "                   all        114        697      0.536      0.439      0.444      0.192\n",
      "\n",
      "      Epoch    GPU_mem   box_loss   cls_loss   dfl_loss  Instances       Size\n"
     ]
    },
    {
     "name": "stderr",
     "output_type": "stream",
     "text": [
      "       5/30      2.95G      1.412      1.898      1.549          9        640: 100%|██████████| 218/218 [00:22<00:00,  9.49it/s]\n",
      "                 Class     Images  Instances      Box(P          R      mAP50  mAP50-95): 100%|██████████| 5/5 [00:00<00:00,  8.92it/s]\n"
     ]
    },
    {
     "name": "stdout",
     "output_type": "stream",
     "text": [
      "                   all        114        697      0.646      0.481      0.505      0.207\n",
      "\n",
      "      Epoch    GPU_mem   box_loss   cls_loss   dfl_loss  Instances       Size\n"
     ]
    },
    {
     "name": "stderr",
     "output_type": "stream",
     "text": [
      "       6/30      2.59G      1.384      1.826      1.524         29        640: 100%|██████████| 218/218 [00:22<00:00,  9.50it/s]\n",
      "                 Class     Images  Instances      Box(P          R      mAP50  mAP50-95): 100%|██████████| 5/5 [00:00<00:00,  8.97it/s]\n"
     ]
    },
    {
     "name": "stdout",
     "output_type": "stream",
     "text": [
      "                   all        114        697      0.637      0.485      0.537      0.242\n",
      "\n",
      "      Epoch    GPU_mem   box_loss   cls_loss   dfl_loss  Instances       Size\n"
     ]
    },
    {
     "name": "stderr",
     "output_type": "stream",
     "text": [
      "       7/30       2.6G      1.366       1.77      1.515         44        640: 100%|██████████| 218/218 [00:22<00:00,  9.49it/s]\n",
      "                 Class     Images  Instances      Box(P          R      mAP50  mAP50-95): 100%|██████████| 5/5 [00:00<00:00,  8.86it/s]\n"
     ]
    },
    {
     "name": "stdout",
     "output_type": "stream",
     "text": [
      "                   all        114        697      0.646      0.486      0.526      0.257\n",
      "\n",
      "      Epoch    GPU_mem   box_loss   cls_loss   dfl_loss  Instances       Size\n"
     ]
    },
    {
     "name": "stderr",
     "output_type": "stream",
     "text": [
      "       8/30       2.6G      1.364      1.747      1.505         54        640: 100%|██████████| 218/218 [00:23<00:00,  9.46it/s]\n",
      "                 Class     Images  Instances      Box(P          R      mAP50  mAP50-95): 100%|██████████| 5/5 [00:00<00:00,  9.02it/s]\n"
     ]
    },
    {
     "name": "stdout",
     "output_type": "stream",
     "text": [
      "                   all        114        697      0.715      0.515      0.574      0.277\n",
      "\n",
      "      Epoch    GPU_mem   box_loss   cls_loss   dfl_loss  Instances       Size\n"
     ]
    },
    {
     "name": "stderr",
     "output_type": "stream",
     "text": [
      "       9/30       2.6G      1.329      1.673      1.483          7        640: 100%|██████████| 218/218 [00:22<00:00,  9.53it/s]\n",
      "                 Class     Images  Instances      Box(P          R      mAP50  mAP50-95): 100%|██████████| 5/5 [00:00<00:00,  8.77it/s]\n"
     ]
    },
    {
     "name": "stdout",
     "output_type": "stream",
     "text": [
      "                   all        114        697      0.705      0.525      0.574       0.28\n",
      "\n",
      "      Epoch    GPU_mem   box_loss   cls_loss   dfl_loss  Instances       Size\n"
     ]
    },
    {
     "name": "stderr",
     "output_type": "stream",
     "text": [
      "      10/30       2.6G      1.323      1.663       1.48         10        640: 100%|██████████| 218/218 [00:22<00:00,  9.51it/s]\n",
      "                 Class     Images  Instances      Box(P          R      mAP50  mAP50-95): 100%|██████████| 5/5 [00:00<00:00,  9.09it/s]\n"
     ]
    },
    {
     "name": "stdout",
     "output_type": "stream",
     "text": [
      "                   all        114        697      0.743      0.521      0.594      0.275\n",
      "\n",
      "      Epoch    GPU_mem   box_loss   cls_loss   dfl_loss  Instances       Size\n"
     ]
    },
    {
     "name": "stderr",
     "output_type": "stream",
     "text": [
      "      11/30       2.6G      1.308      1.638      1.475         18        640: 100%|██████████| 218/218 [00:22<00:00,  9.51it/s]\n",
      "                 Class     Images  Instances      Box(P          R      mAP50  mAP50-95): 100%|██████████| 5/5 [00:00<00:00,  9.03it/s]\n"
     ]
    },
    {
     "name": "stdout",
     "output_type": "stream",
     "text": [
      "                   all        114        697       0.71       0.56      0.599      0.288\n",
      "\n",
      "      Epoch    GPU_mem   box_loss   cls_loss   dfl_loss  Instances       Size\n"
     ]
    },
    {
     "name": "stderr",
     "output_type": "stream",
     "text": [
      "      12/30       2.6G      1.302      1.603      1.455         22        640: 100%|██████████| 218/218 [00:23<00:00,  9.41it/s]\n",
      "                 Class     Images  Instances      Box(P          R      mAP50  mAP50-95): 100%|██████████| 5/5 [00:00<00:00,  9.00it/s]\n"
     ]
    },
    {
     "name": "stdout",
     "output_type": "stream",
     "text": [
      "                   all        114        697       0.76       0.57      0.625      0.298\n",
      "\n",
      "      Epoch    GPU_mem   box_loss   cls_loss   dfl_loss  Instances       Size\n"
     ]
    },
    {
     "name": "stderr",
     "output_type": "stream",
     "text": [
      "      13/30       2.6G      1.294      1.573      1.452         11        640: 100%|██████████| 218/218 [00:23<00:00,  9.45it/s]\n",
      "                 Class     Images  Instances      Box(P          R      mAP50  mAP50-95): 100%|██████████| 5/5 [00:00<00:00,  9.07it/s]\n"
     ]
    },
    {
     "name": "stdout",
     "output_type": "stream",
     "text": [
      "                   all        114        697      0.784      0.569      0.633      0.304\n",
      "\n",
      "      Epoch    GPU_mem   box_loss   cls_loss   dfl_loss  Instances       Size\n"
     ]
    },
    {
     "name": "stderr",
     "output_type": "stream",
     "text": [
      "      14/30       2.6G       1.27      1.539      1.433         35        640: 100%|██████████| 218/218 [00:23<00:00,  9.48it/s]\n",
      "                 Class     Images  Instances      Box(P          R      mAP50  mAP50-95): 100%|██████████| 5/5 [00:00<00:00,  9.06it/s]\n"
     ]
    },
    {
     "name": "stdout",
     "output_type": "stream",
     "text": [
      "                   all        114        697      0.773      0.556      0.628      0.299\n",
      "\n",
      "      Epoch    GPU_mem   box_loss   cls_loss   dfl_loss  Instances       Size\n"
     ]
    },
    {
     "name": "stderr",
     "output_type": "stream",
     "text": [
      "      15/30      2.87G      1.265      1.533      1.427         16        640: 100%|██████████| 218/218 [00:23<00:00,  9.46it/s]\n",
      "                 Class     Images  Instances      Box(P          R      mAP50  mAP50-95): 100%|██████████| 5/5 [00:00<00:00,  8.94it/s]\n"
     ]
    },
    {
     "name": "stdout",
     "output_type": "stream",
     "text": [
      "                   all        114        697      0.725      0.579      0.631      0.313\n",
      "\n",
      "      Epoch    GPU_mem   box_loss   cls_loss   dfl_loss  Instances       Size\n"
     ]
    },
    {
     "name": "stderr",
     "output_type": "stream",
     "text": [
      "      16/30      2.87G      1.269      1.506      1.429          5        640: 100%|██████████| 218/218 [00:23<00:00,  9.42it/s]\n",
      "                 Class     Images  Instances      Box(P          R      mAP50  mAP50-95): 100%|██████████| 5/5 [00:00<00:00,  8.93it/s]"
     ]
    },
    {
     "name": "stdout",
     "output_type": "stream",
     "text": [
      "                   all        114        697      0.782      0.568      0.654      0.315\n"
     ]
    },
    {
     "name": "stderr",
     "output_type": "stream",
     "text": [
      "\n"
     ]
    },
    {
     "name": "stdout",
     "output_type": "stream",
     "text": [
      "\n",
      "      Epoch    GPU_mem   box_loss   cls_loss   dfl_loss  Instances       Size\n"
     ]
    },
    {
     "name": "stderr",
     "output_type": "stream",
     "text": [
      "      17/30      2.87G      1.262      1.483      1.423         11        640: 100%|██████████| 218/218 [00:23<00:00,  9.41it/s]\n",
      "                 Class     Images  Instances      Box(P          R      mAP50  mAP50-95): 100%|██████████| 5/5 [00:00<00:00,  9.01it/s]\n"
     ]
    },
    {
     "name": "stdout",
     "output_type": "stream",
     "text": [
      "                   all        114        697      0.779      0.589      0.651      0.337\n",
      "\n",
      "      Epoch    GPU_mem   box_loss   cls_loss   dfl_loss  Instances       Size\n"
     ]
    },
    {
     "name": "stderr",
     "output_type": "stream",
     "text": [
      "      18/30      2.87G      1.247      1.464       1.42         40        640: 100%|██████████| 218/218 [00:23<00:00,  9.39it/s]\n",
      "                 Class     Images  Instances      Box(P          R      mAP50  mAP50-95): 100%|██████████| 5/5 [00:00<00:00,  8.97it/s]\n"
     ]
    },
    {
     "name": "stdout",
     "output_type": "stream",
     "text": [
      "                   all        114        697      0.774      0.616      0.667      0.324\n",
      "\n",
      "      Epoch    GPU_mem   box_loss   cls_loss   dfl_loss  Instances       Size\n"
     ]
    },
    {
     "name": "stderr",
     "output_type": "stream",
     "text": [
      "      19/30      2.87G      1.213      1.421      1.398          6        640: 100%|██████████| 218/218 [00:22<00:00,  9.49it/s]\n",
      "                 Class     Images  Instances      Box(P          R      mAP50  mAP50-95): 100%|██████████| 5/5 [00:00<00:00,  8.89it/s]\n"
     ]
    },
    {
     "name": "stdout",
     "output_type": "stream",
     "text": [
      "                   all        114        697       0.75      0.613      0.675      0.326\n",
      "\n",
      "      Epoch    GPU_mem   box_loss   cls_loss   dfl_loss  Instances       Size\n"
     ]
    },
    {
     "name": "stderr",
     "output_type": "stream",
     "text": [
      "      20/30      2.88G      1.215      1.421      1.394         19        640: 100%|██████████| 218/218 [00:22<00:00,  9.48it/s]\n",
      "                 Class     Images  Instances      Box(P          R      mAP50  mAP50-95): 100%|██████████| 5/5 [00:00<00:00,  9.05it/s]\n"
     ]
    },
    {
     "name": "stdout",
     "output_type": "stream",
     "text": [
      "                   all        114        697      0.806      0.573      0.663      0.331\n",
      "Closing dataloader mosaic\n",
      "\n",
      "      Epoch    GPU_mem   box_loss   cls_loss   dfl_loss  Instances       Size\n"
     ]
    },
    {
     "name": "stderr",
     "output_type": "stream",
     "text": [
      "      21/30      2.89G      1.113      1.189      1.308          4        640: 100%|██████████| 218/218 [00:22<00:00,  9.77it/s]\n",
      "                 Class     Images  Instances      Box(P          R      mAP50  mAP50-95): 100%|██████████| 5/5 [00:00<00:00,  8.95it/s]\n"
     ]
    },
    {
     "name": "stdout",
     "output_type": "stream",
     "text": [
      "                   all        114        697      0.817      0.614      0.683      0.343\n",
      "\n",
      "      Epoch    GPU_mem   box_loss   cls_loss   dfl_loss  Instances       Size\n"
     ]
    },
    {
     "name": "stderr",
     "output_type": "stream",
     "text": [
      "      22/30      2.89G      1.096       1.11      1.297          5        640: 100%|██████████| 218/218 [00:21<00:00, 10.04it/s]\n",
      "                 Class     Images  Instances      Box(P          R      mAP50  mAP50-95): 100%|██████████| 5/5 [00:00<00:00,  9.11it/s]\n"
     ]
    },
    {
     "name": "stdout",
     "output_type": "stream",
     "text": [
      "                   all        114        697      0.824      0.628      0.702      0.373\n",
      "\n",
      "      Epoch    GPU_mem   box_loss   cls_loss   dfl_loss  Instances       Size\n"
     ]
    },
    {
     "name": "stderr",
     "output_type": "stream",
     "text": [
      "      23/30      2.89G      1.079      1.084      1.284         22        640: 100%|██████████| 218/218 [00:21<00:00, 10.03it/s]\n",
      "                 Class     Images  Instances      Box(P          R      mAP50  mAP50-95): 100%|██████████| 5/5 [00:00<00:00,  9.12it/s]\n"
     ]
    },
    {
     "name": "stdout",
     "output_type": "stream",
     "text": [
      "                   all        114        697      0.825      0.622      0.694      0.357\n",
      "\n",
      "      Epoch    GPU_mem   box_loss   cls_loss   dfl_loss  Instances       Size\n"
     ]
    },
    {
     "name": "stderr",
     "output_type": "stream",
     "text": [
      "      24/30      2.89G       1.07      1.052      1.276          4        640: 100%|██████████| 218/218 [00:21<00:00, 10.02it/s]\n",
      "                 Class     Images  Instances      Box(P          R      mAP50  mAP50-95): 100%|██████████| 5/5 [00:00<00:00,  9.15it/s]\n"
     ]
    },
    {
     "name": "stdout",
     "output_type": "stream",
     "text": [
      "                   all        114        697      0.811      0.651       0.71      0.368\n",
      "\n",
      "      Epoch    GPU_mem   box_loss   cls_loss   dfl_loss  Instances       Size\n"
     ]
    },
    {
     "name": "stderr",
     "output_type": "stream",
     "text": [
      "      25/30      2.89G      1.056      1.029      1.265         11        640: 100%|██████████| 218/218 [00:21<00:00, 10.03it/s]\n",
      "                 Class     Images  Instances      Box(P          R      mAP50  mAP50-95): 100%|██████████| 5/5 [00:00<00:00,  9.11it/s]\n"
     ]
    },
    {
     "name": "stdout",
     "output_type": "stream",
     "text": [
      "                   all        114        697      0.804      0.657      0.718      0.374\n",
      "\n",
      "      Epoch    GPU_mem   box_loss   cls_loss   dfl_loss  Instances       Size\n"
     ]
    },
    {
     "name": "stderr",
     "output_type": "stream",
     "text": [
      "      26/30       2.9G      1.047      1.008       1.25         10        640: 100%|██████████| 218/218 [00:21<00:00, 10.02it/s]\n",
      "                 Class     Images  Instances      Box(P          R      mAP50  mAP50-95): 100%|██████████| 5/5 [00:00<00:00,  9.14it/s]\n"
     ]
    },
    {
     "name": "stdout",
     "output_type": "stream",
     "text": [
      "                   all        114        697      0.822      0.649      0.717      0.361\n",
      "\n",
      "      Epoch    GPU_mem   box_loss   cls_loss   dfl_loss  Instances       Size\n"
     ]
    },
    {
     "name": "stderr",
     "output_type": "stream",
     "text": [
      "      27/30      2.15G      1.036     0.9859      1.245         20        640: 100%|██████████| 218/218 [00:21<00:00, 10.02it/s]\n",
      "                 Class     Images  Instances      Box(P          R      mAP50  mAP50-95): 100%|██████████| 5/5 [00:00<00:00,  9.05it/s]\n"
     ]
    },
    {
     "name": "stdout",
     "output_type": "stream",
     "text": [
      "                   all        114        697      0.818      0.665      0.724      0.393\n",
      "\n",
      "      Epoch    GPU_mem   box_loss   cls_loss   dfl_loss  Instances       Size\n"
     ]
    },
    {
     "name": "stderr",
     "output_type": "stream",
     "text": [
      "      28/30      2.35G      1.022     0.9692      1.234         19        640: 100%|██████████| 218/218 [00:21<00:00, 10.02it/s]\n",
      "                 Class     Images  Instances      Box(P          R      mAP50  mAP50-95): 100%|██████████| 5/5 [00:00<00:00,  9.11it/s]\n"
     ]
    },
    {
     "name": "stdout",
     "output_type": "stream",
     "text": [
      "                   all        114        697      0.876      0.632       0.72      0.385\n",
      "\n",
      "      Epoch    GPU_mem   box_loss   cls_loss   dfl_loss  Instances       Size\n"
     ]
    },
    {
     "name": "stderr",
     "output_type": "stream",
     "text": [
      "      29/30      2.36G      1.014     0.9593       1.23         12        640: 100%|██████████| 218/218 [00:21<00:00, 10.03it/s]\n",
      "                 Class     Images  Instances      Box(P          R      mAP50  mAP50-95): 100%|██████████| 5/5 [00:00<00:00,  9.16it/s]\n"
     ]
    },
    {
     "name": "stdout",
     "output_type": "stream",
     "text": [
      "                   all        114        697      0.813      0.669      0.726       0.39\n",
      "\n",
      "      Epoch    GPU_mem   box_loss   cls_loss   dfl_loss  Instances       Size\n"
     ]
    },
    {
     "name": "stderr",
     "output_type": "stream",
     "text": [
      "      30/30      2.36G      1.004      0.946      1.222         11        640: 100%|██████████| 218/218 [00:21<00:00, 10.02it/s]\n",
      "                 Class     Images  Instances      Box(P          R      mAP50  mAP50-95): 100%|██████████| 5/5 [00:00<00:00,  9.16it/s]\n"
     ]
    },
    {
     "name": "stdout",
     "output_type": "stream",
     "text": [
      "                   all        114        697      0.822      0.664      0.733      0.386\n",
      "\n",
      "30 epochs completed in 0.196 hours.\n",
      "Optimizer stripped from /home/maxime/DataDevIA/computervision/security-checker/runs/detect/ppe_train/weights/last.pt, 5.5MB\n",
      "Optimizer stripped from /home/maxime/DataDevIA/computervision/security-checker/runs/detect/ppe_train/weights/best.pt, 5.5MB\n",
      "\n",
      "Validating /home/maxime/DataDevIA/computervision/security-checker/runs/detect/ppe_train/weights/best.pt...\n",
      "Ultralytics 8.3.151 🚀 Python-3.12.3 torch-2.7.1+cu118 CUDA:0 (NVIDIA GeForce RTX 3060 Laptop GPU, 5931MiB)\n",
      "YOLO11n summary (fused): 100 layers, 2,584,102 parameters, 0 gradients, 6.3 GFLOPs\n"
     ]
    },
    {
     "name": "stderr",
     "output_type": "stream",
     "text": [
      "                 Class     Images  Instances      Box(P          R      mAP50  mAP50-95): 100%|██████████| 5/5 [00:01<00:00,  3.48it/s]\n"
     ]
    },
    {
     "name": "stdout",
     "output_type": "stream",
     "text": [
      "                   all        114        697      0.819      0.665      0.724      0.393\n",
      "               Hardhat         42         79      0.965      0.747      0.832      0.519\n",
      "                  Mask         19         21      0.978      0.857      0.873      0.494\n",
      "            NO-Hardhat         37         69      0.816      0.507      0.611      0.278\n",
      "               NO-Mask         44         74      0.738      0.459      0.526      0.226\n",
      "        NO-Safety Vest         56        106      0.812      0.538       0.63      0.312\n",
      "                Person         84        166      0.825      0.663      0.768      0.449\n",
      "           Safety Cone         13         44      0.807      0.818      0.863      0.439\n",
      "           Safety Vest         28         41      0.938      0.743       0.82      0.441\n",
      "             Machinery         26         55      0.777      0.818      0.854      0.493\n",
      "               Vehicle         16         42      0.536        0.5      0.466      0.282\n",
      "Speed: 0.3ms preprocess, 1.8ms inference, 0.0ms loss, 1.9ms postprocess per image\n",
      "Results saved to \u001b[1m/home/maxime/DataDevIA/computervision/security-checker/runs/detect/ppe_train\u001b[0m\n"
     ]
    },
    {
     "data": {
      "text/plain": [
       "ultralytics.utils.metrics.DetMetrics object with attributes:\n",
       "\n",
       "ap_class_index: array([0, 1, 2, 3, 4, 5, 6, 7, 8, 9])\n",
       "box: ultralytics.utils.metrics.Metric object\n",
       "confusion_matrix: <ultralytics.utils.metrics.ConfusionMatrix object at 0x7306c90bbe60>\n",
       "curves: ['Precision-Recall(B)', 'F1-Confidence(B)', 'Precision-Confidence(B)', 'Recall-Confidence(B)']\n",
       "curves_results: [[array([          0,    0.001001,    0.002002,    0.003003,    0.004004,    0.005005,    0.006006,    0.007007,    0.008008,    0.009009,     0.01001,    0.011011,    0.012012,    0.013013,    0.014014,    0.015015,    0.016016,    0.017017,    0.018018,    0.019019,     0.02002,    0.021021,    0.022022,    0.023023,\n",
       "          0.024024,    0.025025,    0.026026,    0.027027,    0.028028,    0.029029,     0.03003,    0.031031,    0.032032,    0.033033,    0.034034,    0.035035,    0.036036,    0.037037,    0.038038,    0.039039,     0.04004,    0.041041,    0.042042,    0.043043,    0.044044,    0.045045,    0.046046,    0.047047,\n",
       "          0.048048,    0.049049,     0.05005,    0.051051,    0.052052,    0.053053,    0.054054,    0.055055,    0.056056,    0.057057,    0.058058,    0.059059,     0.06006,    0.061061,    0.062062,    0.063063,    0.064064,    0.065065,    0.066066,    0.067067,    0.068068,    0.069069,     0.07007,    0.071071,\n",
       "          0.072072,    0.073073,    0.074074,    0.075075,    0.076076,    0.077077,    0.078078,    0.079079,     0.08008,    0.081081,    0.082082,    0.083083,    0.084084,    0.085085,    0.086086,    0.087087,    0.088088,    0.089089,     0.09009,    0.091091,    0.092092,    0.093093,    0.094094,    0.095095,\n",
       "          0.096096,    0.097097,    0.098098,    0.099099,      0.1001,      0.1011,      0.1021,      0.1031,      0.1041,     0.10511,     0.10611,     0.10711,     0.10811,     0.10911,     0.11011,     0.11111,     0.11211,     0.11311,     0.11411,     0.11512,     0.11612,     0.11712,     0.11812,     0.11912,\n",
       "           0.12012,     0.12112,     0.12212,     0.12312,     0.12412,     0.12513,     0.12613,     0.12713,     0.12813,     0.12913,     0.13013,     0.13113,     0.13213,     0.13313,     0.13413,     0.13514,     0.13614,     0.13714,     0.13814,     0.13914,     0.14014,     0.14114,     0.14214,     0.14314,\n",
       "           0.14414,     0.14515,     0.14615,     0.14715,     0.14815,     0.14915,     0.15015,     0.15115,     0.15215,     0.15315,     0.15415,     0.15516,     0.15616,     0.15716,     0.15816,     0.15916,     0.16016,     0.16116,     0.16216,     0.16316,     0.16416,     0.16517,     0.16617,     0.16717,\n",
       "           0.16817,     0.16917,     0.17017,     0.17117,     0.17217,     0.17317,     0.17417,     0.17518,     0.17618,     0.17718,     0.17818,     0.17918,     0.18018,     0.18118,     0.18218,     0.18318,     0.18418,     0.18519,     0.18619,     0.18719,     0.18819,     0.18919,     0.19019,     0.19119,\n",
       "           0.19219,     0.19319,     0.19419,      0.1952,      0.1962,      0.1972,      0.1982,      0.1992,      0.2002,      0.2012,      0.2022,      0.2032,      0.2042,     0.20521,     0.20621,     0.20721,     0.20821,     0.20921,     0.21021,     0.21121,     0.21221,     0.21321,     0.21421,     0.21522,\n",
       "           0.21622,     0.21722,     0.21822,     0.21922,     0.22022,     0.22122,     0.22222,     0.22322,     0.22422,     0.22523,     0.22623,     0.22723,     0.22823,     0.22923,     0.23023,     0.23123,     0.23223,     0.23323,     0.23423,     0.23524,     0.23624,     0.23724,     0.23824,     0.23924,\n",
       "           0.24024,     0.24124,     0.24224,     0.24324,     0.24424,     0.24525,     0.24625,     0.24725,     0.24825,     0.24925,     0.25025,     0.25125,     0.25225,     0.25325,     0.25425,     0.25526,     0.25626,     0.25726,     0.25826,     0.25926,     0.26026,     0.26126,     0.26226,     0.26326,\n",
       "           0.26426,     0.26527,     0.26627,     0.26727,     0.26827,     0.26927,     0.27027,     0.27127,     0.27227,     0.27327,     0.27427,     0.27528,     0.27628,     0.27728,     0.27828,     0.27928,     0.28028,     0.28128,     0.28228,     0.28328,     0.28428,     0.28529,     0.28629,     0.28729,\n",
       "           0.28829,     0.28929,     0.29029,     0.29129,     0.29229,     0.29329,     0.29429,      0.2953,      0.2963,      0.2973,      0.2983,      0.2993,      0.3003,      0.3013,      0.3023,      0.3033,      0.3043,     0.30531,     0.30631,     0.30731,     0.30831,     0.30931,     0.31031,     0.31131,\n",
       "           0.31231,     0.31331,     0.31431,     0.31532,     0.31632,     0.31732,     0.31832,     0.31932,     0.32032,     0.32132,     0.32232,     0.32332,     0.32432,     0.32533,     0.32633,     0.32733,     0.32833,     0.32933,     0.33033,     0.33133,     0.33233,     0.33333,     0.33433,     0.33534,\n",
       "           0.33634,     0.33734,     0.33834,     0.33934,     0.34034,     0.34134,     0.34234,     0.34334,     0.34434,     0.34535,     0.34635,     0.34735,     0.34835,     0.34935,     0.35035,     0.35135,     0.35235,     0.35335,     0.35435,     0.35536,     0.35636,     0.35736,     0.35836,     0.35936,\n",
       "           0.36036,     0.36136,     0.36236,     0.36336,     0.36436,     0.36537,     0.36637,     0.36737,     0.36837,     0.36937,     0.37037,     0.37137,     0.37237,     0.37337,     0.37437,     0.37538,     0.37638,     0.37738,     0.37838,     0.37938,     0.38038,     0.38138,     0.38238,     0.38338,\n",
       "           0.38438,     0.38539,     0.38639,     0.38739,     0.38839,     0.38939,     0.39039,     0.39139,     0.39239,     0.39339,     0.39439,      0.3954,      0.3964,      0.3974,      0.3984,      0.3994,      0.4004,      0.4014,      0.4024,      0.4034,      0.4044,     0.40541,     0.40641,     0.40741,\n",
       "           0.40841,     0.40941,     0.41041,     0.41141,     0.41241,     0.41341,     0.41441,     0.41542,     0.41642,     0.41742,     0.41842,     0.41942,     0.42042,     0.42142,     0.42242,     0.42342,     0.42442,     0.42543,     0.42643,     0.42743,     0.42843,     0.42943,     0.43043,     0.43143,\n",
       "           0.43243,     0.43343,     0.43443,     0.43544,     0.43644,     0.43744,     0.43844,     0.43944,     0.44044,     0.44144,     0.44244,     0.44344,     0.44444,     0.44545,     0.44645,     0.44745,     0.44845,     0.44945,     0.45045,     0.45145,     0.45245,     0.45345,     0.45445,     0.45546,\n",
       "           0.45646,     0.45746,     0.45846,     0.45946,     0.46046,     0.46146,     0.46246,     0.46346,     0.46446,     0.46547,     0.46647,     0.46747,     0.46847,     0.46947,     0.47047,     0.47147,     0.47247,     0.47347,     0.47447,     0.47548,     0.47648,     0.47748,     0.47848,     0.47948,\n",
       "           0.48048,     0.48148,     0.48248,     0.48348,     0.48448,     0.48549,     0.48649,     0.48749,     0.48849,     0.48949,     0.49049,     0.49149,     0.49249,     0.49349,     0.49449,      0.4955,      0.4965,      0.4975,      0.4985,      0.4995,      0.5005,      0.5015,      0.5025,      0.5035,\n",
       "            0.5045,     0.50551,     0.50651,     0.50751,     0.50851,     0.50951,     0.51051,     0.51151,     0.51251,     0.51351,     0.51451,     0.51552,     0.51652,     0.51752,     0.51852,     0.51952,     0.52052,     0.52152,     0.52252,     0.52352,     0.52452,     0.52553,     0.52653,     0.52753,\n",
       "           0.52853,     0.52953,     0.53053,     0.53153,     0.53253,     0.53353,     0.53453,     0.53554,     0.53654,     0.53754,     0.53854,     0.53954,     0.54054,     0.54154,     0.54254,     0.54354,     0.54454,     0.54555,     0.54655,     0.54755,     0.54855,     0.54955,     0.55055,     0.55155,\n",
       "           0.55255,     0.55355,     0.55455,     0.55556,     0.55656,     0.55756,     0.55856,     0.55956,     0.56056,     0.56156,     0.56256,     0.56356,     0.56456,     0.56557,     0.56657,     0.56757,     0.56857,     0.56957,     0.57057,     0.57157,     0.57257,     0.57357,     0.57457,     0.57558,\n",
       "           0.57658,     0.57758,     0.57858,     0.57958,     0.58058,     0.58158,     0.58258,     0.58358,     0.58458,     0.58559,     0.58659,     0.58759,     0.58859,     0.58959,     0.59059,     0.59159,     0.59259,     0.59359,     0.59459,      0.5956,      0.5966,      0.5976,      0.5986,      0.5996,\n",
       "            0.6006,      0.6016,      0.6026,      0.6036,      0.6046,     0.60561,     0.60661,     0.60761,     0.60861,     0.60961,     0.61061,     0.61161,     0.61261,     0.61361,     0.61461,     0.61562,     0.61662,     0.61762,     0.61862,     0.61962,     0.62062,     0.62162,     0.62262,     0.62362,\n",
       "           0.62462,     0.62563,     0.62663,     0.62763,     0.62863,     0.62963,     0.63063,     0.63163,     0.63263,     0.63363,     0.63463,     0.63564,     0.63664,     0.63764,     0.63864,     0.63964,     0.64064,     0.64164,     0.64264,     0.64364,     0.64464,     0.64565,     0.64665,     0.64765,\n",
       "           0.64865,     0.64965,     0.65065,     0.65165,     0.65265,     0.65365,     0.65465,     0.65566,     0.65666,     0.65766,     0.65866,     0.65966,     0.66066,     0.66166,     0.66266,     0.66366,     0.66466,     0.66567,     0.66667,     0.66767,     0.66867,     0.66967,     0.67067,     0.67167,\n",
       "           0.67267,     0.67367,     0.67467,     0.67568,     0.67668,     0.67768,     0.67868,     0.67968,     0.68068,     0.68168,     0.68268,     0.68368,     0.68468,     0.68569,     0.68669,     0.68769,     0.68869,     0.68969,     0.69069,     0.69169,     0.69269,     0.69369,     0.69469,      0.6957,\n",
       "            0.6967,      0.6977,      0.6987,      0.6997,      0.7007,      0.7017,      0.7027,      0.7037,      0.7047,     0.70571,     0.70671,     0.70771,     0.70871,     0.70971,     0.71071,     0.71171,     0.71271,     0.71371,     0.71471,     0.71572,     0.71672,     0.71772,     0.71872,     0.71972,\n",
       "           0.72072,     0.72172,     0.72272,     0.72372,     0.72472,     0.72573,     0.72673,     0.72773,     0.72873,     0.72973,     0.73073,     0.73173,     0.73273,     0.73373,     0.73473,     0.73574,     0.73674,     0.73774,     0.73874,     0.73974,     0.74074,     0.74174,     0.74274,     0.74374,\n",
       "           0.74474,     0.74575,     0.74675,     0.74775,     0.74875,     0.74975,     0.75075,     0.75175,     0.75275,     0.75375,     0.75475,     0.75576,     0.75676,     0.75776,     0.75876,     0.75976,     0.76076,     0.76176,     0.76276,     0.76376,     0.76476,     0.76577,     0.76677,     0.76777,\n",
       "           0.76877,     0.76977,     0.77077,     0.77177,     0.77277,     0.77377,     0.77477,     0.77578,     0.77678,     0.77778,     0.77878,     0.77978,     0.78078,     0.78178,     0.78278,     0.78378,     0.78478,     0.78579,     0.78679,     0.78779,     0.78879,     0.78979,     0.79079,     0.79179,\n",
       "           0.79279,     0.79379,     0.79479,      0.7958,      0.7968,      0.7978,      0.7988,      0.7998,      0.8008,      0.8018,      0.8028,      0.8038,      0.8048,     0.80581,     0.80681,     0.80781,     0.80881,     0.80981,     0.81081,     0.81181,     0.81281,     0.81381,     0.81481,     0.81582,\n",
       "           0.81682,     0.81782,     0.81882,     0.81982,     0.82082,     0.82182,     0.82282,     0.82382,     0.82482,     0.82583,     0.82683,     0.82783,     0.82883,     0.82983,     0.83083,     0.83183,     0.83283,     0.83383,     0.83483,     0.83584,     0.83684,     0.83784,     0.83884,     0.83984,\n",
       "           0.84084,     0.84184,     0.84284,     0.84384,     0.84484,     0.84585,     0.84685,     0.84785,     0.84885,     0.84985,     0.85085,     0.85185,     0.85285,     0.85385,     0.85485,     0.85586,     0.85686,     0.85786,     0.85886,     0.85986,     0.86086,     0.86186,     0.86286,     0.86386,\n",
       "           0.86486,     0.86587,     0.86687,     0.86787,     0.86887,     0.86987,     0.87087,     0.87187,     0.87287,     0.87387,     0.87487,     0.87588,     0.87688,     0.87788,     0.87888,     0.87988,     0.88088,     0.88188,     0.88288,     0.88388,     0.88488,     0.88589,     0.88689,     0.88789,\n",
       "           0.88889,     0.88989,     0.89089,     0.89189,     0.89289,     0.89389,     0.89489,      0.8959,      0.8969,      0.8979,      0.8989,      0.8999,      0.9009,      0.9019,      0.9029,      0.9039,      0.9049,     0.90591,     0.90691,     0.90791,     0.90891,     0.90991,     0.91091,     0.91191,\n",
       "           0.91291,     0.91391,     0.91491,     0.91592,     0.91692,     0.91792,     0.91892,     0.91992,     0.92092,     0.92192,     0.92292,     0.92392,     0.92492,     0.92593,     0.92693,     0.92793,     0.92893,     0.92993,     0.93093,     0.93193,     0.93293,     0.93393,     0.93493,     0.93594,\n",
       "           0.93694,     0.93794,     0.93894,     0.93994,     0.94094,     0.94194,     0.94294,     0.94394,     0.94494,     0.94595,     0.94695,     0.94795,     0.94895,     0.94995,     0.95095,     0.95195,     0.95295,     0.95395,     0.95495,     0.95596,     0.95696,     0.95796,     0.95896,     0.95996,\n",
       "           0.96096,     0.96196,     0.96296,     0.96396,     0.96496,     0.96597,     0.96697,     0.96797,     0.96897,     0.96997,     0.97097,     0.97197,     0.97297,     0.97397,     0.97497,     0.97598,     0.97698,     0.97798,     0.97898,     0.97998,     0.98098,     0.98198,     0.98298,     0.98398,\n",
       "           0.98498,     0.98599,     0.98699,     0.98799,     0.98899,     0.98999,     0.99099,     0.99199,     0.99299,     0.99399,     0.99499,       0.996,       0.997,       0.998,       0.999,           1]), array([[          1,           1,           1, ...,   0.0010794,  0.00053971,           0],\n",
       "       [          1,           1,           1, ...,   0.0012289,  0.00061446,           0],\n",
       "       [          1,           1,           1, ...,  0.00066316,  0.00033158,           0],\n",
       "       ...,\n",
       "       [          1,           1,           1, ...,    0.001191,  0.00059548,           0],\n",
       "       [          1,           1,           1, ...,   0.0010044,  0.00050219,           0],\n",
       "       [          1,           1,           1, ...,  0.00012992,   6.496e-05,           0]]), 'Recall', 'Precision'], [array([          0,    0.001001,    0.002002,    0.003003,    0.004004,    0.005005,    0.006006,    0.007007,    0.008008,    0.009009,     0.01001,    0.011011,    0.012012,    0.013013,    0.014014,    0.015015,    0.016016,    0.017017,    0.018018,    0.019019,     0.02002,    0.021021,    0.022022,    0.023023,\n",
       "          0.024024,    0.025025,    0.026026,    0.027027,    0.028028,    0.029029,     0.03003,    0.031031,    0.032032,    0.033033,    0.034034,    0.035035,    0.036036,    0.037037,    0.038038,    0.039039,     0.04004,    0.041041,    0.042042,    0.043043,    0.044044,    0.045045,    0.046046,    0.047047,\n",
       "          0.048048,    0.049049,     0.05005,    0.051051,    0.052052,    0.053053,    0.054054,    0.055055,    0.056056,    0.057057,    0.058058,    0.059059,     0.06006,    0.061061,    0.062062,    0.063063,    0.064064,    0.065065,    0.066066,    0.067067,    0.068068,    0.069069,     0.07007,    0.071071,\n",
       "          0.072072,    0.073073,    0.074074,    0.075075,    0.076076,    0.077077,    0.078078,    0.079079,     0.08008,    0.081081,    0.082082,    0.083083,    0.084084,    0.085085,    0.086086,    0.087087,    0.088088,    0.089089,     0.09009,    0.091091,    0.092092,    0.093093,    0.094094,    0.095095,\n",
       "          0.096096,    0.097097,    0.098098,    0.099099,      0.1001,      0.1011,      0.1021,      0.1031,      0.1041,     0.10511,     0.10611,     0.10711,     0.10811,     0.10911,     0.11011,     0.11111,     0.11211,     0.11311,     0.11411,     0.11512,     0.11612,     0.11712,     0.11812,     0.11912,\n",
       "           0.12012,     0.12112,     0.12212,     0.12312,     0.12412,     0.12513,     0.12613,     0.12713,     0.12813,     0.12913,     0.13013,     0.13113,     0.13213,     0.13313,     0.13413,     0.13514,     0.13614,     0.13714,     0.13814,     0.13914,     0.14014,     0.14114,     0.14214,     0.14314,\n",
       "           0.14414,     0.14515,     0.14615,     0.14715,     0.14815,     0.14915,     0.15015,     0.15115,     0.15215,     0.15315,     0.15415,     0.15516,     0.15616,     0.15716,     0.15816,     0.15916,     0.16016,     0.16116,     0.16216,     0.16316,     0.16416,     0.16517,     0.16617,     0.16717,\n",
       "           0.16817,     0.16917,     0.17017,     0.17117,     0.17217,     0.17317,     0.17417,     0.17518,     0.17618,     0.17718,     0.17818,     0.17918,     0.18018,     0.18118,     0.18218,     0.18318,     0.18418,     0.18519,     0.18619,     0.18719,     0.18819,     0.18919,     0.19019,     0.19119,\n",
       "           0.19219,     0.19319,     0.19419,      0.1952,      0.1962,      0.1972,      0.1982,      0.1992,      0.2002,      0.2012,      0.2022,      0.2032,      0.2042,     0.20521,     0.20621,     0.20721,     0.20821,     0.20921,     0.21021,     0.21121,     0.21221,     0.21321,     0.21421,     0.21522,\n",
       "           0.21622,     0.21722,     0.21822,     0.21922,     0.22022,     0.22122,     0.22222,     0.22322,     0.22422,     0.22523,     0.22623,     0.22723,     0.22823,     0.22923,     0.23023,     0.23123,     0.23223,     0.23323,     0.23423,     0.23524,     0.23624,     0.23724,     0.23824,     0.23924,\n",
       "           0.24024,     0.24124,     0.24224,     0.24324,     0.24424,     0.24525,     0.24625,     0.24725,     0.24825,     0.24925,     0.25025,     0.25125,     0.25225,     0.25325,     0.25425,     0.25526,     0.25626,     0.25726,     0.25826,     0.25926,     0.26026,     0.26126,     0.26226,     0.26326,\n",
       "           0.26426,     0.26527,     0.26627,     0.26727,     0.26827,     0.26927,     0.27027,     0.27127,     0.27227,     0.27327,     0.27427,     0.27528,     0.27628,     0.27728,     0.27828,     0.27928,     0.28028,     0.28128,     0.28228,     0.28328,     0.28428,     0.28529,     0.28629,     0.28729,\n",
       "           0.28829,     0.28929,     0.29029,     0.29129,     0.29229,     0.29329,     0.29429,      0.2953,      0.2963,      0.2973,      0.2983,      0.2993,      0.3003,      0.3013,      0.3023,      0.3033,      0.3043,     0.30531,     0.30631,     0.30731,     0.30831,     0.30931,     0.31031,     0.31131,\n",
       "           0.31231,     0.31331,     0.31431,     0.31532,     0.31632,     0.31732,     0.31832,     0.31932,     0.32032,     0.32132,     0.32232,     0.32332,     0.32432,     0.32533,     0.32633,     0.32733,     0.32833,     0.32933,     0.33033,     0.33133,     0.33233,     0.33333,     0.33433,     0.33534,\n",
       "           0.33634,     0.33734,     0.33834,     0.33934,     0.34034,     0.34134,     0.34234,     0.34334,     0.34434,     0.34535,     0.34635,     0.34735,     0.34835,     0.34935,     0.35035,     0.35135,     0.35235,     0.35335,     0.35435,     0.35536,     0.35636,     0.35736,     0.35836,     0.35936,\n",
       "           0.36036,     0.36136,     0.36236,     0.36336,     0.36436,     0.36537,     0.36637,     0.36737,     0.36837,     0.36937,     0.37037,     0.37137,     0.37237,     0.37337,     0.37437,     0.37538,     0.37638,     0.37738,     0.37838,     0.37938,     0.38038,     0.38138,     0.38238,     0.38338,\n",
       "           0.38438,     0.38539,     0.38639,     0.38739,     0.38839,     0.38939,     0.39039,     0.39139,     0.39239,     0.39339,     0.39439,      0.3954,      0.3964,      0.3974,      0.3984,      0.3994,      0.4004,      0.4014,      0.4024,      0.4034,      0.4044,     0.40541,     0.40641,     0.40741,\n",
       "           0.40841,     0.40941,     0.41041,     0.41141,     0.41241,     0.41341,     0.41441,     0.41542,     0.41642,     0.41742,     0.41842,     0.41942,     0.42042,     0.42142,     0.42242,     0.42342,     0.42442,     0.42543,     0.42643,     0.42743,     0.42843,     0.42943,     0.43043,     0.43143,\n",
       "           0.43243,     0.43343,     0.43443,     0.43544,     0.43644,     0.43744,     0.43844,     0.43944,     0.44044,     0.44144,     0.44244,     0.44344,     0.44444,     0.44545,     0.44645,     0.44745,     0.44845,     0.44945,     0.45045,     0.45145,     0.45245,     0.45345,     0.45445,     0.45546,\n",
       "           0.45646,     0.45746,     0.45846,     0.45946,     0.46046,     0.46146,     0.46246,     0.46346,     0.46446,     0.46547,     0.46647,     0.46747,     0.46847,     0.46947,     0.47047,     0.47147,     0.47247,     0.47347,     0.47447,     0.47548,     0.47648,     0.47748,     0.47848,     0.47948,\n",
       "           0.48048,     0.48148,     0.48248,     0.48348,     0.48448,     0.48549,     0.48649,     0.48749,     0.48849,     0.48949,     0.49049,     0.49149,     0.49249,     0.49349,     0.49449,      0.4955,      0.4965,      0.4975,      0.4985,      0.4995,      0.5005,      0.5015,      0.5025,      0.5035,\n",
       "            0.5045,     0.50551,     0.50651,     0.50751,     0.50851,     0.50951,     0.51051,     0.51151,     0.51251,     0.51351,     0.51451,     0.51552,     0.51652,     0.51752,     0.51852,     0.51952,     0.52052,     0.52152,     0.52252,     0.52352,     0.52452,     0.52553,     0.52653,     0.52753,\n",
       "           0.52853,     0.52953,     0.53053,     0.53153,     0.53253,     0.53353,     0.53453,     0.53554,     0.53654,     0.53754,     0.53854,     0.53954,     0.54054,     0.54154,     0.54254,     0.54354,     0.54454,     0.54555,     0.54655,     0.54755,     0.54855,     0.54955,     0.55055,     0.55155,\n",
       "           0.55255,     0.55355,     0.55455,     0.55556,     0.55656,     0.55756,     0.55856,     0.55956,     0.56056,     0.56156,     0.56256,     0.56356,     0.56456,     0.56557,     0.56657,     0.56757,     0.56857,     0.56957,     0.57057,     0.57157,     0.57257,     0.57357,     0.57457,     0.57558,\n",
       "           0.57658,     0.57758,     0.57858,     0.57958,     0.58058,     0.58158,     0.58258,     0.58358,     0.58458,     0.58559,     0.58659,     0.58759,     0.58859,     0.58959,     0.59059,     0.59159,     0.59259,     0.59359,     0.59459,      0.5956,      0.5966,      0.5976,      0.5986,      0.5996,\n",
       "            0.6006,      0.6016,      0.6026,      0.6036,      0.6046,     0.60561,     0.60661,     0.60761,     0.60861,     0.60961,     0.61061,     0.61161,     0.61261,     0.61361,     0.61461,     0.61562,     0.61662,     0.61762,     0.61862,     0.61962,     0.62062,     0.62162,     0.62262,     0.62362,\n",
       "           0.62462,     0.62563,     0.62663,     0.62763,     0.62863,     0.62963,     0.63063,     0.63163,     0.63263,     0.63363,     0.63463,     0.63564,     0.63664,     0.63764,     0.63864,     0.63964,     0.64064,     0.64164,     0.64264,     0.64364,     0.64464,     0.64565,     0.64665,     0.64765,\n",
       "           0.64865,     0.64965,     0.65065,     0.65165,     0.65265,     0.65365,     0.65465,     0.65566,     0.65666,     0.65766,     0.65866,     0.65966,     0.66066,     0.66166,     0.66266,     0.66366,     0.66466,     0.66567,     0.66667,     0.66767,     0.66867,     0.66967,     0.67067,     0.67167,\n",
       "           0.67267,     0.67367,     0.67467,     0.67568,     0.67668,     0.67768,     0.67868,     0.67968,     0.68068,     0.68168,     0.68268,     0.68368,     0.68468,     0.68569,     0.68669,     0.68769,     0.68869,     0.68969,     0.69069,     0.69169,     0.69269,     0.69369,     0.69469,      0.6957,\n",
       "            0.6967,      0.6977,      0.6987,      0.6997,      0.7007,      0.7017,      0.7027,      0.7037,      0.7047,     0.70571,     0.70671,     0.70771,     0.70871,     0.70971,     0.71071,     0.71171,     0.71271,     0.71371,     0.71471,     0.71572,     0.71672,     0.71772,     0.71872,     0.71972,\n",
       "           0.72072,     0.72172,     0.72272,     0.72372,     0.72472,     0.72573,     0.72673,     0.72773,     0.72873,     0.72973,     0.73073,     0.73173,     0.73273,     0.73373,     0.73473,     0.73574,     0.73674,     0.73774,     0.73874,     0.73974,     0.74074,     0.74174,     0.74274,     0.74374,\n",
       "           0.74474,     0.74575,     0.74675,     0.74775,     0.74875,     0.74975,     0.75075,     0.75175,     0.75275,     0.75375,     0.75475,     0.75576,     0.75676,     0.75776,     0.75876,     0.75976,     0.76076,     0.76176,     0.76276,     0.76376,     0.76476,     0.76577,     0.76677,     0.76777,\n",
       "           0.76877,     0.76977,     0.77077,     0.77177,     0.77277,     0.77377,     0.77477,     0.77578,     0.77678,     0.77778,     0.77878,     0.77978,     0.78078,     0.78178,     0.78278,     0.78378,     0.78478,     0.78579,     0.78679,     0.78779,     0.78879,     0.78979,     0.79079,     0.79179,\n",
       "           0.79279,     0.79379,     0.79479,      0.7958,      0.7968,      0.7978,      0.7988,      0.7998,      0.8008,      0.8018,      0.8028,      0.8038,      0.8048,     0.80581,     0.80681,     0.80781,     0.80881,     0.80981,     0.81081,     0.81181,     0.81281,     0.81381,     0.81481,     0.81582,\n",
       "           0.81682,     0.81782,     0.81882,     0.81982,     0.82082,     0.82182,     0.82282,     0.82382,     0.82482,     0.82583,     0.82683,     0.82783,     0.82883,     0.82983,     0.83083,     0.83183,     0.83283,     0.83383,     0.83483,     0.83584,     0.83684,     0.83784,     0.83884,     0.83984,\n",
       "           0.84084,     0.84184,     0.84284,     0.84384,     0.84484,     0.84585,     0.84685,     0.84785,     0.84885,     0.84985,     0.85085,     0.85185,     0.85285,     0.85385,     0.85485,     0.85586,     0.85686,     0.85786,     0.85886,     0.85986,     0.86086,     0.86186,     0.86286,     0.86386,\n",
       "           0.86486,     0.86587,     0.86687,     0.86787,     0.86887,     0.86987,     0.87087,     0.87187,     0.87287,     0.87387,     0.87487,     0.87588,     0.87688,     0.87788,     0.87888,     0.87988,     0.88088,     0.88188,     0.88288,     0.88388,     0.88488,     0.88589,     0.88689,     0.88789,\n",
       "           0.88889,     0.88989,     0.89089,     0.89189,     0.89289,     0.89389,     0.89489,      0.8959,      0.8969,      0.8979,      0.8989,      0.8999,      0.9009,      0.9019,      0.9029,      0.9039,      0.9049,     0.90591,     0.90691,     0.90791,     0.90891,     0.90991,     0.91091,     0.91191,\n",
       "           0.91291,     0.91391,     0.91491,     0.91592,     0.91692,     0.91792,     0.91892,     0.91992,     0.92092,     0.92192,     0.92292,     0.92392,     0.92492,     0.92593,     0.92693,     0.92793,     0.92893,     0.92993,     0.93093,     0.93193,     0.93293,     0.93393,     0.93493,     0.93594,\n",
       "           0.93694,     0.93794,     0.93894,     0.93994,     0.94094,     0.94194,     0.94294,     0.94394,     0.94494,     0.94595,     0.94695,     0.94795,     0.94895,     0.94995,     0.95095,     0.95195,     0.95295,     0.95395,     0.95495,     0.95596,     0.95696,     0.95796,     0.95896,     0.95996,\n",
       "           0.96096,     0.96196,     0.96296,     0.96396,     0.96496,     0.96597,     0.96697,     0.96797,     0.96897,     0.96997,     0.97097,     0.97197,     0.97297,     0.97397,     0.97497,     0.97598,     0.97698,     0.97798,     0.97898,     0.97998,     0.98098,     0.98198,     0.98298,     0.98398,\n",
       "           0.98498,     0.98599,     0.98699,     0.98799,     0.98899,     0.98999,     0.99099,     0.99199,     0.99299,     0.99399,     0.99499,       0.996,       0.997,       0.998,       0.999,           1]), array([[    0.12661,     0.12661,     0.16913, ...,           0,           0,           0],\n",
       "       [    0.10983,     0.10983,     0.17504, ...,           0,           0,           0],\n",
       "       [    0.13966,     0.13966,     0.18264, ...,           0,           0,           0],\n",
       "       ...,\n",
       "       [   0.083151,    0.083151,      0.1116, ...,           0,           0,           0],\n",
       "       [   0.018075,    0.018075,    0.037317, ...,           0,           0,           0],\n",
       "       [   0.036145,    0.036145,    0.051767, ...,           0,           0,           0]]), 'Confidence', 'F1'], [array([          0,    0.001001,    0.002002,    0.003003,    0.004004,    0.005005,    0.006006,    0.007007,    0.008008,    0.009009,     0.01001,    0.011011,    0.012012,    0.013013,    0.014014,    0.015015,    0.016016,    0.017017,    0.018018,    0.019019,     0.02002,    0.021021,    0.022022,    0.023023,\n",
       "          0.024024,    0.025025,    0.026026,    0.027027,    0.028028,    0.029029,     0.03003,    0.031031,    0.032032,    0.033033,    0.034034,    0.035035,    0.036036,    0.037037,    0.038038,    0.039039,     0.04004,    0.041041,    0.042042,    0.043043,    0.044044,    0.045045,    0.046046,    0.047047,\n",
       "          0.048048,    0.049049,     0.05005,    0.051051,    0.052052,    0.053053,    0.054054,    0.055055,    0.056056,    0.057057,    0.058058,    0.059059,     0.06006,    0.061061,    0.062062,    0.063063,    0.064064,    0.065065,    0.066066,    0.067067,    0.068068,    0.069069,     0.07007,    0.071071,\n",
       "          0.072072,    0.073073,    0.074074,    0.075075,    0.076076,    0.077077,    0.078078,    0.079079,     0.08008,    0.081081,    0.082082,    0.083083,    0.084084,    0.085085,    0.086086,    0.087087,    0.088088,    0.089089,     0.09009,    0.091091,    0.092092,    0.093093,    0.094094,    0.095095,\n",
       "          0.096096,    0.097097,    0.098098,    0.099099,      0.1001,      0.1011,      0.1021,      0.1031,      0.1041,     0.10511,     0.10611,     0.10711,     0.10811,     0.10911,     0.11011,     0.11111,     0.11211,     0.11311,     0.11411,     0.11512,     0.11612,     0.11712,     0.11812,     0.11912,\n",
       "           0.12012,     0.12112,     0.12212,     0.12312,     0.12412,     0.12513,     0.12613,     0.12713,     0.12813,     0.12913,     0.13013,     0.13113,     0.13213,     0.13313,     0.13413,     0.13514,     0.13614,     0.13714,     0.13814,     0.13914,     0.14014,     0.14114,     0.14214,     0.14314,\n",
       "           0.14414,     0.14515,     0.14615,     0.14715,     0.14815,     0.14915,     0.15015,     0.15115,     0.15215,     0.15315,     0.15415,     0.15516,     0.15616,     0.15716,     0.15816,     0.15916,     0.16016,     0.16116,     0.16216,     0.16316,     0.16416,     0.16517,     0.16617,     0.16717,\n",
       "           0.16817,     0.16917,     0.17017,     0.17117,     0.17217,     0.17317,     0.17417,     0.17518,     0.17618,     0.17718,     0.17818,     0.17918,     0.18018,     0.18118,     0.18218,     0.18318,     0.18418,     0.18519,     0.18619,     0.18719,     0.18819,     0.18919,     0.19019,     0.19119,\n",
       "           0.19219,     0.19319,     0.19419,      0.1952,      0.1962,      0.1972,      0.1982,      0.1992,      0.2002,      0.2012,      0.2022,      0.2032,      0.2042,     0.20521,     0.20621,     0.20721,     0.20821,     0.20921,     0.21021,     0.21121,     0.21221,     0.21321,     0.21421,     0.21522,\n",
       "           0.21622,     0.21722,     0.21822,     0.21922,     0.22022,     0.22122,     0.22222,     0.22322,     0.22422,     0.22523,     0.22623,     0.22723,     0.22823,     0.22923,     0.23023,     0.23123,     0.23223,     0.23323,     0.23423,     0.23524,     0.23624,     0.23724,     0.23824,     0.23924,\n",
       "           0.24024,     0.24124,     0.24224,     0.24324,     0.24424,     0.24525,     0.24625,     0.24725,     0.24825,     0.24925,     0.25025,     0.25125,     0.25225,     0.25325,     0.25425,     0.25526,     0.25626,     0.25726,     0.25826,     0.25926,     0.26026,     0.26126,     0.26226,     0.26326,\n",
       "           0.26426,     0.26527,     0.26627,     0.26727,     0.26827,     0.26927,     0.27027,     0.27127,     0.27227,     0.27327,     0.27427,     0.27528,     0.27628,     0.27728,     0.27828,     0.27928,     0.28028,     0.28128,     0.28228,     0.28328,     0.28428,     0.28529,     0.28629,     0.28729,\n",
       "           0.28829,     0.28929,     0.29029,     0.29129,     0.29229,     0.29329,     0.29429,      0.2953,      0.2963,      0.2973,      0.2983,      0.2993,      0.3003,      0.3013,      0.3023,      0.3033,      0.3043,     0.30531,     0.30631,     0.30731,     0.30831,     0.30931,     0.31031,     0.31131,\n",
       "           0.31231,     0.31331,     0.31431,     0.31532,     0.31632,     0.31732,     0.31832,     0.31932,     0.32032,     0.32132,     0.32232,     0.32332,     0.32432,     0.32533,     0.32633,     0.32733,     0.32833,     0.32933,     0.33033,     0.33133,     0.33233,     0.33333,     0.33433,     0.33534,\n",
       "           0.33634,     0.33734,     0.33834,     0.33934,     0.34034,     0.34134,     0.34234,     0.34334,     0.34434,     0.34535,     0.34635,     0.34735,     0.34835,     0.34935,     0.35035,     0.35135,     0.35235,     0.35335,     0.35435,     0.35536,     0.35636,     0.35736,     0.35836,     0.35936,\n",
       "           0.36036,     0.36136,     0.36236,     0.36336,     0.36436,     0.36537,     0.36637,     0.36737,     0.36837,     0.36937,     0.37037,     0.37137,     0.37237,     0.37337,     0.37437,     0.37538,     0.37638,     0.37738,     0.37838,     0.37938,     0.38038,     0.38138,     0.38238,     0.38338,\n",
       "           0.38438,     0.38539,     0.38639,     0.38739,     0.38839,     0.38939,     0.39039,     0.39139,     0.39239,     0.39339,     0.39439,      0.3954,      0.3964,      0.3974,      0.3984,      0.3994,      0.4004,      0.4014,      0.4024,      0.4034,      0.4044,     0.40541,     0.40641,     0.40741,\n",
       "           0.40841,     0.40941,     0.41041,     0.41141,     0.41241,     0.41341,     0.41441,     0.41542,     0.41642,     0.41742,     0.41842,     0.41942,     0.42042,     0.42142,     0.42242,     0.42342,     0.42442,     0.42543,     0.42643,     0.42743,     0.42843,     0.42943,     0.43043,     0.43143,\n",
       "           0.43243,     0.43343,     0.43443,     0.43544,     0.43644,     0.43744,     0.43844,     0.43944,     0.44044,     0.44144,     0.44244,     0.44344,     0.44444,     0.44545,     0.44645,     0.44745,     0.44845,     0.44945,     0.45045,     0.45145,     0.45245,     0.45345,     0.45445,     0.45546,\n",
       "           0.45646,     0.45746,     0.45846,     0.45946,     0.46046,     0.46146,     0.46246,     0.46346,     0.46446,     0.46547,     0.46647,     0.46747,     0.46847,     0.46947,     0.47047,     0.47147,     0.47247,     0.47347,     0.47447,     0.47548,     0.47648,     0.47748,     0.47848,     0.47948,\n",
       "           0.48048,     0.48148,     0.48248,     0.48348,     0.48448,     0.48549,     0.48649,     0.48749,     0.48849,     0.48949,     0.49049,     0.49149,     0.49249,     0.49349,     0.49449,      0.4955,      0.4965,      0.4975,      0.4985,      0.4995,      0.5005,      0.5015,      0.5025,      0.5035,\n",
       "            0.5045,     0.50551,     0.50651,     0.50751,     0.50851,     0.50951,     0.51051,     0.51151,     0.51251,     0.51351,     0.51451,     0.51552,     0.51652,     0.51752,     0.51852,     0.51952,     0.52052,     0.52152,     0.52252,     0.52352,     0.52452,     0.52553,     0.52653,     0.52753,\n",
       "           0.52853,     0.52953,     0.53053,     0.53153,     0.53253,     0.53353,     0.53453,     0.53554,     0.53654,     0.53754,     0.53854,     0.53954,     0.54054,     0.54154,     0.54254,     0.54354,     0.54454,     0.54555,     0.54655,     0.54755,     0.54855,     0.54955,     0.55055,     0.55155,\n",
       "           0.55255,     0.55355,     0.55455,     0.55556,     0.55656,     0.55756,     0.55856,     0.55956,     0.56056,     0.56156,     0.56256,     0.56356,     0.56456,     0.56557,     0.56657,     0.56757,     0.56857,     0.56957,     0.57057,     0.57157,     0.57257,     0.57357,     0.57457,     0.57558,\n",
       "           0.57658,     0.57758,     0.57858,     0.57958,     0.58058,     0.58158,     0.58258,     0.58358,     0.58458,     0.58559,     0.58659,     0.58759,     0.58859,     0.58959,     0.59059,     0.59159,     0.59259,     0.59359,     0.59459,      0.5956,      0.5966,      0.5976,      0.5986,      0.5996,\n",
       "            0.6006,      0.6016,      0.6026,      0.6036,      0.6046,     0.60561,     0.60661,     0.60761,     0.60861,     0.60961,     0.61061,     0.61161,     0.61261,     0.61361,     0.61461,     0.61562,     0.61662,     0.61762,     0.61862,     0.61962,     0.62062,     0.62162,     0.62262,     0.62362,\n",
       "           0.62462,     0.62563,     0.62663,     0.62763,     0.62863,     0.62963,     0.63063,     0.63163,     0.63263,     0.63363,     0.63463,     0.63564,     0.63664,     0.63764,     0.63864,     0.63964,     0.64064,     0.64164,     0.64264,     0.64364,     0.64464,     0.64565,     0.64665,     0.64765,\n",
       "           0.64865,     0.64965,     0.65065,     0.65165,     0.65265,     0.65365,     0.65465,     0.65566,     0.65666,     0.65766,     0.65866,     0.65966,     0.66066,     0.66166,     0.66266,     0.66366,     0.66466,     0.66567,     0.66667,     0.66767,     0.66867,     0.66967,     0.67067,     0.67167,\n",
       "           0.67267,     0.67367,     0.67467,     0.67568,     0.67668,     0.67768,     0.67868,     0.67968,     0.68068,     0.68168,     0.68268,     0.68368,     0.68468,     0.68569,     0.68669,     0.68769,     0.68869,     0.68969,     0.69069,     0.69169,     0.69269,     0.69369,     0.69469,      0.6957,\n",
       "            0.6967,      0.6977,      0.6987,      0.6997,      0.7007,      0.7017,      0.7027,      0.7037,      0.7047,     0.70571,     0.70671,     0.70771,     0.70871,     0.70971,     0.71071,     0.71171,     0.71271,     0.71371,     0.71471,     0.71572,     0.71672,     0.71772,     0.71872,     0.71972,\n",
       "           0.72072,     0.72172,     0.72272,     0.72372,     0.72472,     0.72573,     0.72673,     0.72773,     0.72873,     0.72973,     0.73073,     0.73173,     0.73273,     0.73373,     0.73473,     0.73574,     0.73674,     0.73774,     0.73874,     0.73974,     0.74074,     0.74174,     0.74274,     0.74374,\n",
       "           0.74474,     0.74575,     0.74675,     0.74775,     0.74875,     0.74975,     0.75075,     0.75175,     0.75275,     0.75375,     0.75475,     0.75576,     0.75676,     0.75776,     0.75876,     0.75976,     0.76076,     0.76176,     0.76276,     0.76376,     0.76476,     0.76577,     0.76677,     0.76777,\n",
       "           0.76877,     0.76977,     0.77077,     0.77177,     0.77277,     0.77377,     0.77477,     0.77578,     0.77678,     0.77778,     0.77878,     0.77978,     0.78078,     0.78178,     0.78278,     0.78378,     0.78478,     0.78579,     0.78679,     0.78779,     0.78879,     0.78979,     0.79079,     0.79179,\n",
       "           0.79279,     0.79379,     0.79479,      0.7958,      0.7968,      0.7978,      0.7988,      0.7998,      0.8008,      0.8018,      0.8028,      0.8038,      0.8048,     0.80581,     0.80681,     0.80781,     0.80881,     0.80981,     0.81081,     0.81181,     0.81281,     0.81381,     0.81481,     0.81582,\n",
       "           0.81682,     0.81782,     0.81882,     0.81982,     0.82082,     0.82182,     0.82282,     0.82382,     0.82482,     0.82583,     0.82683,     0.82783,     0.82883,     0.82983,     0.83083,     0.83183,     0.83283,     0.83383,     0.83483,     0.83584,     0.83684,     0.83784,     0.83884,     0.83984,\n",
       "           0.84084,     0.84184,     0.84284,     0.84384,     0.84484,     0.84585,     0.84685,     0.84785,     0.84885,     0.84985,     0.85085,     0.85185,     0.85285,     0.85385,     0.85485,     0.85586,     0.85686,     0.85786,     0.85886,     0.85986,     0.86086,     0.86186,     0.86286,     0.86386,\n",
       "           0.86486,     0.86587,     0.86687,     0.86787,     0.86887,     0.86987,     0.87087,     0.87187,     0.87287,     0.87387,     0.87487,     0.87588,     0.87688,     0.87788,     0.87888,     0.87988,     0.88088,     0.88188,     0.88288,     0.88388,     0.88488,     0.88589,     0.88689,     0.88789,\n",
       "           0.88889,     0.88989,     0.89089,     0.89189,     0.89289,     0.89389,     0.89489,      0.8959,      0.8969,      0.8979,      0.8989,      0.8999,      0.9009,      0.9019,      0.9029,      0.9039,      0.9049,     0.90591,     0.90691,     0.90791,     0.90891,     0.90991,     0.91091,     0.91191,\n",
       "           0.91291,     0.91391,     0.91491,     0.91592,     0.91692,     0.91792,     0.91892,     0.91992,     0.92092,     0.92192,     0.92292,     0.92392,     0.92492,     0.92593,     0.92693,     0.92793,     0.92893,     0.92993,     0.93093,     0.93193,     0.93293,     0.93393,     0.93493,     0.93594,\n",
       "           0.93694,     0.93794,     0.93894,     0.93994,     0.94094,     0.94194,     0.94294,     0.94394,     0.94494,     0.94595,     0.94695,     0.94795,     0.94895,     0.94995,     0.95095,     0.95195,     0.95295,     0.95395,     0.95495,     0.95596,     0.95696,     0.95796,     0.95896,     0.95996,\n",
       "           0.96096,     0.96196,     0.96296,     0.96396,     0.96496,     0.96597,     0.96697,     0.96797,     0.96897,     0.96997,     0.97097,     0.97197,     0.97297,     0.97397,     0.97497,     0.97598,     0.97698,     0.97798,     0.97898,     0.97998,     0.98098,     0.98198,     0.98298,     0.98398,\n",
       "           0.98498,     0.98599,     0.98699,     0.98799,     0.98899,     0.98999,     0.99099,     0.99199,     0.99299,     0.99399,     0.99499,       0.996,       0.997,       0.998,       0.999,           1]), array([[   0.068249,    0.068249,    0.093781, ...,           1,           1,           1],\n",
       "       [   0.058462,    0.058462,    0.096893, ...,           1,           1,           1],\n",
       "       [   0.076812,    0.076812,     0.10364, ...,           1,           1,           1],\n",
       "       ...,\n",
       "       [   0.043528,    0.043528,    0.059477, ...,           1,           1,           1],\n",
       "       [  0.0091216,   0.0091216,     0.01902, ...,           1,           1,           1],\n",
       "       [   0.018541,    0.018541,    0.026857, ...,           1,           1,           1]]), 'Confidence', 'Precision'], [array([          0,    0.001001,    0.002002,    0.003003,    0.004004,    0.005005,    0.006006,    0.007007,    0.008008,    0.009009,     0.01001,    0.011011,    0.012012,    0.013013,    0.014014,    0.015015,    0.016016,    0.017017,    0.018018,    0.019019,     0.02002,    0.021021,    0.022022,    0.023023,\n",
       "          0.024024,    0.025025,    0.026026,    0.027027,    0.028028,    0.029029,     0.03003,    0.031031,    0.032032,    0.033033,    0.034034,    0.035035,    0.036036,    0.037037,    0.038038,    0.039039,     0.04004,    0.041041,    0.042042,    0.043043,    0.044044,    0.045045,    0.046046,    0.047047,\n",
       "          0.048048,    0.049049,     0.05005,    0.051051,    0.052052,    0.053053,    0.054054,    0.055055,    0.056056,    0.057057,    0.058058,    0.059059,     0.06006,    0.061061,    0.062062,    0.063063,    0.064064,    0.065065,    0.066066,    0.067067,    0.068068,    0.069069,     0.07007,    0.071071,\n",
       "          0.072072,    0.073073,    0.074074,    0.075075,    0.076076,    0.077077,    0.078078,    0.079079,     0.08008,    0.081081,    0.082082,    0.083083,    0.084084,    0.085085,    0.086086,    0.087087,    0.088088,    0.089089,     0.09009,    0.091091,    0.092092,    0.093093,    0.094094,    0.095095,\n",
       "          0.096096,    0.097097,    0.098098,    0.099099,      0.1001,      0.1011,      0.1021,      0.1031,      0.1041,     0.10511,     0.10611,     0.10711,     0.10811,     0.10911,     0.11011,     0.11111,     0.11211,     0.11311,     0.11411,     0.11512,     0.11612,     0.11712,     0.11812,     0.11912,\n",
       "           0.12012,     0.12112,     0.12212,     0.12312,     0.12412,     0.12513,     0.12613,     0.12713,     0.12813,     0.12913,     0.13013,     0.13113,     0.13213,     0.13313,     0.13413,     0.13514,     0.13614,     0.13714,     0.13814,     0.13914,     0.14014,     0.14114,     0.14214,     0.14314,\n",
       "           0.14414,     0.14515,     0.14615,     0.14715,     0.14815,     0.14915,     0.15015,     0.15115,     0.15215,     0.15315,     0.15415,     0.15516,     0.15616,     0.15716,     0.15816,     0.15916,     0.16016,     0.16116,     0.16216,     0.16316,     0.16416,     0.16517,     0.16617,     0.16717,\n",
       "           0.16817,     0.16917,     0.17017,     0.17117,     0.17217,     0.17317,     0.17417,     0.17518,     0.17618,     0.17718,     0.17818,     0.17918,     0.18018,     0.18118,     0.18218,     0.18318,     0.18418,     0.18519,     0.18619,     0.18719,     0.18819,     0.18919,     0.19019,     0.19119,\n",
       "           0.19219,     0.19319,     0.19419,      0.1952,      0.1962,      0.1972,      0.1982,      0.1992,      0.2002,      0.2012,      0.2022,      0.2032,      0.2042,     0.20521,     0.20621,     0.20721,     0.20821,     0.20921,     0.21021,     0.21121,     0.21221,     0.21321,     0.21421,     0.21522,\n",
       "           0.21622,     0.21722,     0.21822,     0.21922,     0.22022,     0.22122,     0.22222,     0.22322,     0.22422,     0.22523,     0.22623,     0.22723,     0.22823,     0.22923,     0.23023,     0.23123,     0.23223,     0.23323,     0.23423,     0.23524,     0.23624,     0.23724,     0.23824,     0.23924,\n",
       "           0.24024,     0.24124,     0.24224,     0.24324,     0.24424,     0.24525,     0.24625,     0.24725,     0.24825,     0.24925,     0.25025,     0.25125,     0.25225,     0.25325,     0.25425,     0.25526,     0.25626,     0.25726,     0.25826,     0.25926,     0.26026,     0.26126,     0.26226,     0.26326,\n",
       "           0.26426,     0.26527,     0.26627,     0.26727,     0.26827,     0.26927,     0.27027,     0.27127,     0.27227,     0.27327,     0.27427,     0.27528,     0.27628,     0.27728,     0.27828,     0.27928,     0.28028,     0.28128,     0.28228,     0.28328,     0.28428,     0.28529,     0.28629,     0.28729,\n",
       "           0.28829,     0.28929,     0.29029,     0.29129,     0.29229,     0.29329,     0.29429,      0.2953,      0.2963,      0.2973,      0.2983,      0.2993,      0.3003,      0.3013,      0.3023,      0.3033,      0.3043,     0.30531,     0.30631,     0.30731,     0.30831,     0.30931,     0.31031,     0.31131,\n",
       "           0.31231,     0.31331,     0.31431,     0.31532,     0.31632,     0.31732,     0.31832,     0.31932,     0.32032,     0.32132,     0.32232,     0.32332,     0.32432,     0.32533,     0.32633,     0.32733,     0.32833,     0.32933,     0.33033,     0.33133,     0.33233,     0.33333,     0.33433,     0.33534,\n",
       "           0.33634,     0.33734,     0.33834,     0.33934,     0.34034,     0.34134,     0.34234,     0.34334,     0.34434,     0.34535,     0.34635,     0.34735,     0.34835,     0.34935,     0.35035,     0.35135,     0.35235,     0.35335,     0.35435,     0.35536,     0.35636,     0.35736,     0.35836,     0.35936,\n",
       "           0.36036,     0.36136,     0.36236,     0.36336,     0.36436,     0.36537,     0.36637,     0.36737,     0.36837,     0.36937,     0.37037,     0.37137,     0.37237,     0.37337,     0.37437,     0.37538,     0.37638,     0.37738,     0.37838,     0.37938,     0.38038,     0.38138,     0.38238,     0.38338,\n",
       "           0.38438,     0.38539,     0.38639,     0.38739,     0.38839,     0.38939,     0.39039,     0.39139,     0.39239,     0.39339,     0.39439,      0.3954,      0.3964,      0.3974,      0.3984,      0.3994,      0.4004,      0.4014,      0.4024,      0.4034,      0.4044,     0.40541,     0.40641,     0.40741,\n",
       "           0.40841,     0.40941,     0.41041,     0.41141,     0.41241,     0.41341,     0.41441,     0.41542,     0.41642,     0.41742,     0.41842,     0.41942,     0.42042,     0.42142,     0.42242,     0.42342,     0.42442,     0.42543,     0.42643,     0.42743,     0.42843,     0.42943,     0.43043,     0.43143,\n",
       "           0.43243,     0.43343,     0.43443,     0.43544,     0.43644,     0.43744,     0.43844,     0.43944,     0.44044,     0.44144,     0.44244,     0.44344,     0.44444,     0.44545,     0.44645,     0.44745,     0.44845,     0.44945,     0.45045,     0.45145,     0.45245,     0.45345,     0.45445,     0.45546,\n",
       "           0.45646,     0.45746,     0.45846,     0.45946,     0.46046,     0.46146,     0.46246,     0.46346,     0.46446,     0.46547,     0.46647,     0.46747,     0.46847,     0.46947,     0.47047,     0.47147,     0.47247,     0.47347,     0.47447,     0.47548,     0.47648,     0.47748,     0.47848,     0.47948,\n",
       "           0.48048,     0.48148,     0.48248,     0.48348,     0.48448,     0.48549,     0.48649,     0.48749,     0.48849,     0.48949,     0.49049,     0.49149,     0.49249,     0.49349,     0.49449,      0.4955,      0.4965,      0.4975,      0.4985,      0.4995,      0.5005,      0.5015,      0.5025,      0.5035,\n",
       "            0.5045,     0.50551,     0.50651,     0.50751,     0.50851,     0.50951,     0.51051,     0.51151,     0.51251,     0.51351,     0.51451,     0.51552,     0.51652,     0.51752,     0.51852,     0.51952,     0.52052,     0.52152,     0.52252,     0.52352,     0.52452,     0.52553,     0.52653,     0.52753,\n",
       "           0.52853,     0.52953,     0.53053,     0.53153,     0.53253,     0.53353,     0.53453,     0.53554,     0.53654,     0.53754,     0.53854,     0.53954,     0.54054,     0.54154,     0.54254,     0.54354,     0.54454,     0.54555,     0.54655,     0.54755,     0.54855,     0.54955,     0.55055,     0.55155,\n",
       "           0.55255,     0.55355,     0.55455,     0.55556,     0.55656,     0.55756,     0.55856,     0.55956,     0.56056,     0.56156,     0.56256,     0.56356,     0.56456,     0.56557,     0.56657,     0.56757,     0.56857,     0.56957,     0.57057,     0.57157,     0.57257,     0.57357,     0.57457,     0.57558,\n",
       "           0.57658,     0.57758,     0.57858,     0.57958,     0.58058,     0.58158,     0.58258,     0.58358,     0.58458,     0.58559,     0.58659,     0.58759,     0.58859,     0.58959,     0.59059,     0.59159,     0.59259,     0.59359,     0.59459,      0.5956,      0.5966,      0.5976,      0.5986,      0.5996,\n",
       "            0.6006,      0.6016,      0.6026,      0.6036,      0.6046,     0.60561,     0.60661,     0.60761,     0.60861,     0.60961,     0.61061,     0.61161,     0.61261,     0.61361,     0.61461,     0.61562,     0.61662,     0.61762,     0.61862,     0.61962,     0.62062,     0.62162,     0.62262,     0.62362,\n",
       "           0.62462,     0.62563,     0.62663,     0.62763,     0.62863,     0.62963,     0.63063,     0.63163,     0.63263,     0.63363,     0.63463,     0.63564,     0.63664,     0.63764,     0.63864,     0.63964,     0.64064,     0.64164,     0.64264,     0.64364,     0.64464,     0.64565,     0.64665,     0.64765,\n",
       "           0.64865,     0.64965,     0.65065,     0.65165,     0.65265,     0.65365,     0.65465,     0.65566,     0.65666,     0.65766,     0.65866,     0.65966,     0.66066,     0.66166,     0.66266,     0.66366,     0.66466,     0.66567,     0.66667,     0.66767,     0.66867,     0.66967,     0.67067,     0.67167,\n",
       "           0.67267,     0.67367,     0.67467,     0.67568,     0.67668,     0.67768,     0.67868,     0.67968,     0.68068,     0.68168,     0.68268,     0.68368,     0.68468,     0.68569,     0.68669,     0.68769,     0.68869,     0.68969,     0.69069,     0.69169,     0.69269,     0.69369,     0.69469,      0.6957,\n",
       "            0.6967,      0.6977,      0.6987,      0.6997,      0.7007,      0.7017,      0.7027,      0.7037,      0.7047,     0.70571,     0.70671,     0.70771,     0.70871,     0.70971,     0.71071,     0.71171,     0.71271,     0.71371,     0.71471,     0.71572,     0.71672,     0.71772,     0.71872,     0.71972,\n",
       "           0.72072,     0.72172,     0.72272,     0.72372,     0.72472,     0.72573,     0.72673,     0.72773,     0.72873,     0.72973,     0.73073,     0.73173,     0.73273,     0.73373,     0.73473,     0.73574,     0.73674,     0.73774,     0.73874,     0.73974,     0.74074,     0.74174,     0.74274,     0.74374,\n",
       "           0.74474,     0.74575,     0.74675,     0.74775,     0.74875,     0.74975,     0.75075,     0.75175,     0.75275,     0.75375,     0.75475,     0.75576,     0.75676,     0.75776,     0.75876,     0.75976,     0.76076,     0.76176,     0.76276,     0.76376,     0.76476,     0.76577,     0.76677,     0.76777,\n",
       "           0.76877,     0.76977,     0.77077,     0.77177,     0.77277,     0.77377,     0.77477,     0.77578,     0.77678,     0.77778,     0.77878,     0.77978,     0.78078,     0.78178,     0.78278,     0.78378,     0.78478,     0.78579,     0.78679,     0.78779,     0.78879,     0.78979,     0.79079,     0.79179,\n",
       "           0.79279,     0.79379,     0.79479,      0.7958,      0.7968,      0.7978,      0.7988,      0.7998,      0.8008,      0.8018,      0.8028,      0.8038,      0.8048,     0.80581,     0.80681,     0.80781,     0.80881,     0.80981,     0.81081,     0.81181,     0.81281,     0.81381,     0.81481,     0.81582,\n",
       "           0.81682,     0.81782,     0.81882,     0.81982,     0.82082,     0.82182,     0.82282,     0.82382,     0.82482,     0.82583,     0.82683,     0.82783,     0.82883,     0.82983,     0.83083,     0.83183,     0.83283,     0.83383,     0.83483,     0.83584,     0.83684,     0.83784,     0.83884,     0.83984,\n",
       "           0.84084,     0.84184,     0.84284,     0.84384,     0.84484,     0.84585,     0.84685,     0.84785,     0.84885,     0.84985,     0.85085,     0.85185,     0.85285,     0.85385,     0.85485,     0.85586,     0.85686,     0.85786,     0.85886,     0.85986,     0.86086,     0.86186,     0.86286,     0.86386,\n",
       "           0.86486,     0.86587,     0.86687,     0.86787,     0.86887,     0.86987,     0.87087,     0.87187,     0.87287,     0.87387,     0.87487,     0.87588,     0.87688,     0.87788,     0.87888,     0.87988,     0.88088,     0.88188,     0.88288,     0.88388,     0.88488,     0.88589,     0.88689,     0.88789,\n",
       "           0.88889,     0.88989,     0.89089,     0.89189,     0.89289,     0.89389,     0.89489,      0.8959,      0.8969,      0.8979,      0.8989,      0.8999,      0.9009,      0.9019,      0.9029,      0.9039,      0.9049,     0.90591,     0.90691,     0.90791,     0.90891,     0.90991,     0.91091,     0.91191,\n",
       "           0.91291,     0.91391,     0.91491,     0.91592,     0.91692,     0.91792,     0.91892,     0.91992,     0.92092,     0.92192,     0.92292,     0.92392,     0.92492,     0.92593,     0.92693,     0.92793,     0.92893,     0.92993,     0.93093,     0.93193,     0.93293,     0.93393,     0.93493,     0.93594,\n",
       "           0.93694,     0.93794,     0.93894,     0.93994,     0.94094,     0.94194,     0.94294,     0.94394,     0.94494,     0.94595,     0.94695,     0.94795,     0.94895,     0.94995,     0.95095,     0.95195,     0.95295,     0.95395,     0.95495,     0.95596,     0.95696,     0.95796,     0.95896,     0.95996,\n",
       "           0.96096,     0.96196,     0.96296,     0.96396,     0.96496,     0.96597,     0.96697,     0.96797,     0.96897,     0.96997,     0.97097,     0.97197,     0.97297,     0.97397,     0.97497,     0.97598,     0.97698,     0.97798,     0.97898,     0.97998,     0.98098,     0.98198,     0.98298,     0.98398,\n",
       "           0.98498,     0.98599,     0.98699,     0.98799,     0.98899,     0.98999,     0.99099,     0.99199,     0.99299,     0.99399,     0.99499,       0.996,       0.997,       0.998,       0.999,           1]), array([[    0.87342,     0.87342,     0.86076, ...,           0,           0,           0],\n",
       "       [    0.90476,     0.90476,     0.90476, ...,           0,           0,           0],\n",
       "       [    0.76812,     0.76812,     0.76812, ...,           0,           0,           0],\n",
       "       ...,\n",
       "       [    0.92683,     0.92683,     0.90244, ...,           0,           0,           0],\n",
       "       [    0.98182,     0.98182,     0.98182, ...,           0,           0,           0],\n",
       "       [    0.71429,     0.71429,     0.71429, ...,           0,           0,           0]]), 'Confidence', 'Recall']]\n",
       "fitness: np.float64(0.4263309981578769)\n",
       "keys: ['metrics/precision(B)', 'metrics/recall(B)', 'metrics/mAP50(B)', 'metrics/mAP50-95(B)']\n",
       "maps: array([    0.51886,     0.49382,     0.27763,     0.22609,     0.31196,     0.44931,     0.43869,     0.44079,      0.4934,      0.2817])\n",
       "names: {0: 'Hardhat', 1: 'Mask', 2: 'NO-Hardhat', 3: 'NO-Mask', 4: 'NO-Safety Vest', 5: 'Person', 6: 'Safety Cone', 7: 'Safety Vest', 8: 'Machinery', 9: 'Vehicle'}\n",
       "plot: True\n",
       "results_dict: {'metrics/precision(B)': np.float64(0.819409118279881), 'metrics/recall(B)': np.float64(0.6650277211447712), 'metrics/mAP50(B)': np.float64(0.7242798004668224), 'metrics/mAP50-95(B)': np.float64(0.39322557567910515), 'fitness': np.float64(0.4263309981578769)}\n",
       "save_dir: PosixPath('/home/maxime/DataDevIA/computervision/security-checker/runs/detect/ppe_train')\n",
       "speed: {'preprocess': 0.29059764915074454, 'inference': 1.775698464929551, 'loss': 0.0029744034946544845, 'postprocess': 1.9332753859966865}\n",
       "task: 'detect'"
      ]
     },
     "execution_count": 7,
     "metadata": {},
     "output_type": "execute_result"
    }
   ],
   "source": [
    "# Nettoyer d’éventuels anciennes runs\n",
    "clean_runs()\n",
    "\n",
    "# Charger le modèle de base (COCO)\n",
    "base_model = YOLO(str(CFG.BASE_WEIGHTS))\n",
    "\n",
    "# Lancer l'entraînement (revenir à GPU si disponible)\n",
    "base_model.train(\n",
    "    data=str(CFG.DATA_YAML),\n",
    "    epochs=CFG.EPOCHS,\n",
    "    imgsz=CFG.IMG_SIZE,\n",
    "    batch=CFG.BATCH,\n",
    "    device=CFG.DEVICE,  # <--- utiliser CFG.DEVICE (par ex. \"0\")\n",
    "    project=str(CFG.WORKING / 'runs' / 'detect'),\n",
    "    name='ppe_train',\n",
    "    patience=10,\n",
    "    hsv_h=0.015, hsv_s=0.7, hsv_v=0.4,\n",
    "    flipud=0.2, fliplr=0.5,\n",
    "    mosaic=0.8, mixup=0.2\n",
    ")\n",
    "\n"
   ]
  },
  {
   "cell_type": "code",
   "execution_count": 9,
   "id": "4a48f98c",
   "metadata": {},
   "outputs": [
    {
     "name": "stdout",
     "output_type": "stream",
     "text": [
      "✅ Modèle PPE chargé : /home/maxime/DataDevIA/computervision/security-checker/runs/detect/ppe_train/weights/best.pt\n",
      "✅ 82 images trouvées dans « /home/maxime/DataDevIA/computervision/datasetcomputervision/css-data/test/images »\n",
      "→ Les prédictions seront enregistrées sous : /home/maxime/DataDevIA/computervision/security-checker/runs/detect/predict_ppe\n",
      "\n",
      "0: 640x640 1 Person, 100.3ms\n",
      "1: 640x640 3 Hardhats, 4 NO-Masks, 3 NO-Safety Vests, 4 Persons, 100.3ms\n",
      "2: 640x640 1 Person, 1 Safety Vest, 100.3ms\n",
      "3: 640x640 2 Hardhats, 1 NO-Safety Vest, 1 Person, 100.3ms\n",
      "4: 640x640 (no detections), 100.3ms\n",
      "5: 640x640 2 Hardhats, 2 NO-Masks, 4 Persons, 100.3ms\n",
      "6: 640x640 1 Mask, 1 NO-Hardhat, 1 NO-Safety Vest, 1 Person, 100.3ms\n",
      "7: 640x640 1 Hardhat, 1 NO-Safety Vest, 1 Person, 15 Vehicles, 100.3ms\n",
      "8: 640x640 1 Hardhat, 1 Person, 1 Safety Vest, 100.3ms\n",
      "9: 640x640 1 Hardhat, 1 Person, 2 Machinerys, 1 Vehicle, 100.3ms\n",
      "10: 640x640 1 Mask, 1 NO-Hardhat, 1 NO-Safety Vest, 1 Person, 100.3ms\n",
      "11: 640x640 2 Hardhats, 2 NO-Masks, 2 NO-Safety Vests, 2 Persons, 1 Safety Vest, 100.3ms\n",
      "12: 640x640 7 Persons, 6 Machinerys, 9 Vehicles, 100.3ms\n",
      "13: 640x640 2 Hardhats, 2 NO-Safety Vests, 3 Persons, 100.3ms\n",
      "14: 640x640 1 NO-Hardhat, 1 NO-Safety Vest, 1 Person, 100.3ms\n",
      "15: 640x640 1 Machinery, 100.3ms\n",
      "16: 640x640 1 Mask, 2 NO-Hardhats, 1 NO-Safety Vest, 1 Person, 100.3ms\n",
      "17: 640x640 1 Person, 2 Vehicles, 100.3ms\n",
      "18: 640x640 (no detections), 100.3ms\n",
      "19: 640x640 24 Safety Cones, 2 Vehicles, 100.3ms\n",
      "20: 640x640 1 Person, 1 Safety Vest, 100.3ms\n",
      "21: 640x640 (no detections), 100.3ms\n",
      "22: 640x640 (no detections), 100.3ms\n",
      "23: 640x640 11 Hardhats, 1 NO-Hardhat, 6 NO-Masks, 6 NO-Safety Vests, 17 Persons, 100.3ms\n",
      "24: 640x640 1 Hardhat, 3 NO-Hardhats, 3 NO-Safety Vests, 3 Persons, 100.3ms\n",
      "25: 640x640 (no detections), 100.3ms\n",
      "26: 640x640 2 Persons, 100.3ms\n",
      "27: 640x640 2 Machinerys, 100.3ms\n",
      "28: 640x640 1 Hardhat, 1 Mask, 1 Person, 1 Safety Vest, 100.3ms\n",
      "29: 640x640 1 Machinery, 100.3ms\n",
      "30: 640x640 3 Machinerys, 100.3ms\n",
      "31: 640x640 7 Masks, 10 NO-Hardhats, 10 NO-Safety Vests, 14 Persons, 100.3ms\n",
      "32: 640x640 22 Hardhats, 30 NO-Masks, 40 Persons, 35 Safety Vests, 100.3ms\n",
      "33: 640x640 1 Hardhat, 1 NO-Hardhat, 2 NO-Safety Vests, 2 Persons, 100.3ms\n",
      "34: 640x640 3 Safety Cones, 1 Vehicle, 100.3ms\n",
      "35: 640x640 3 NO-Hardhats, 1 NO-Mask, 2 NO-Safety Vests, 4 Persons, 2 Machinerys, 100.3ms\n",
      "36: 640x640 3 Persons, 1 Safety Vest, 2 Machinerys, 8 Vehicles, 100.3ms\n",
      "37: 640x640 31 Safety Cones, 100.3ms\n",
      "38: 640x640 (no detections), 100.3ms\n",
      "39: 640x640 2 Machinerys, 100.3ms\n",
      "40: 640x640 1 NO-Hardhat, 1 NO-Mask, 3 NO-Safety Vests, 1 Person, 100.3ms\n",
      "41: 640x640 1 Mask, 1 NO-Hardhat, 1 NO-Safety Vest, 1 Person, 100.3ms\n",
      "42: 640x640 1 Mask, 1 NO-Hardhat, 1 NO-Safety Vest, 1 Person, 100.3ms\n",
      "43: 640x640 1 NO-Safety Vest, 4 Persons, 1 Safety Vest, 1 Machinery, 100.3ms\n",
      "44: 640x640 2 Hardhats, 2 Persons, 2 Safety Vests, 4 Vehicles, 100.3ms\n",
      "45: 640x640 3 Safety Cones, 100.3ms\n",
      "46: 640x640 1 Machinery, 100.3ms\n",
      "47: 640x640 1 Hardhat, 1 Person, 1 Safety Vest, 1 Machinery, 100.3ms\n",
      "48: 640x640 1 Person, 100.3ms\n",
      "49: 640x640 11 Hardhats, 13 NO-Masks, 10 NO-Safety Vests, 9 Persons, 100.3ms\n",
      "50: 640x640 1 Person, 1 Machinery, 100.3ms\n",
      "51: 640x640 1 Person, 1 Safety Vest, 2 Machinerys, 100.3ms\n",
      "52: 640x640 2 Persons, 1 Machinery, 100.3ms\n",
      "53: 640x640 2 Machinerys, 100.3ms\n",
      "54: 640x640 3 Hardhats, 2 NO-Masks, 1 NO-Safety Vest, 1 Person, 1 Safety Cone, 100.3ms\n",
      "55: 640x640 1 Mask, 1 NO-Hardhat, 1 NO-Safety Vest, 1 Person, 100.3ms\n",
      "56: 640x640 2 Machinerys, 100.3ms\n",
      "57: 640x640 (no detections), 100.3ms\n",
      "58: 640x640 11 Hardhats, 5 NO-Masks, 11 Persons, 8 Safety Vests, 100.3ms\n",
      "59: 640x640 2 Machinerys, 100.3ms\n",
      "60: 640x640 1 NO-Hardhat, 2 NO-Masks, 2 Persons, 1 Safety Vest, 100.3ms\n",
      "61: 640x640 1 Hardhat, 1 Mask, 1 Person, 1 Safety Vest, 100.3ms\n",
      "62: 640x640 4 Machinerys, 100.3ms\n",
      "63: 640x640 1 Mask, 1 NO-Hardhat, 1 NO-Safety Vest, 1 Person, 100.3ms\n",
      "64: 640x640 1 Mask, 1 NO-Hardhat, 1 NO-Safety Vest, 1 Person, 100.3ms\n",
      "65: 640x640 1 Mask, 1 NO-Hardhat, 1 NO-Safety Vest, 1 Person, 100.3ms\n",
      "66: 640x640 1 Hardhat, 1 NO-Mask, 1 Person, 1 Safety Vest, 2 Vehicles, 100.3ms\n",
      "67: 640x640 (no detections), 100.3ms\n",
      "68: 640x640 1 NO-Hardhat, 2 NO-Masks, 1 NO-Safety Vest, 1 Person, 100.3ms\n",
      "69: 640x640 5 Hardhats, 3 NO-Safety Vests, 6 Persons, 3 Safety Vests, 100.3ms\n",
      "70: 640x640 2 Machinerys, 100.3ms\n",
      "71: 640x640 4 Hardhats, 3 NO-Masks, 3 Persons, 2 Safety Vests, 100.3ms\n",
      "72: 640x640 6 Hardhats, 6 NO-Masks, 8 Persons, 7 Safety Vests, 100.3ms\n",
      "73: 640x640 4 Safety Cones, 1 Vehicle, 100.3ms\n",
      "74: 640x640 2 NO-Safety Vests, 1 Person, 100.3ms\n",
      "75: 640x640 1 Hardhat, 4 Persons, 3 Safety Vests, 1 Machinery, 2 Vehicles, 100.3ms\n",
      "76: 640x640 5 Safety Cones, 1 Vehicle, 100.3ms\n",
      "77: 640x640 3 Machinerys, 100.3ms\n",
      "78: 640x640 1 Hardhat, 2 NO-Masks, 1 Person, 1 Safety Vest, 100.3ms\n",
      "79: 640x640 1 Hardhat, 2 NO-Hardhats, 5 NO-Masks, 2 NO-Safety Vests, 2 Persons, 100.3ms\n",
      "80: 640x640 1 Mask, 1 NO-Hardhat, 1 NO-Safety Vest, 1 Person, 100.3ms\n",
      "81: 640x640 1 Hardhat, 2 NO-Masks, 1 Person, 1 Safety Vest, 100.3ms\n",
      "Speed: 3.6ms preprocess, 100.3ms inference, 0.4ms postprocess per image at shape (1, 3, 640, 640)\n",
      "Results saved to \u001b[1m/home/maxime/DataDevIA/computervision/security-checker/runs/detect/predict_ppe\u001b[0m\n",
      "✅ Prédictions sauvegardées dans : /home/maxime/DataDevIA/computervision/security-checker/runs/detect/predict_ppe\n"
     ]
    }
   ],
   "source": [
    "from pathlib import Path\n",
    "import glob\n",
    "from ultralytics import YOLO\n",
    "\n",
    "# 1. Chemin vers le .pt “best” issu de l’entraînement PPE\n",
    "best_pt_path = \"/home/maxime/DataDevIA/computervision/security-checker/runs/detect/ppe_train/weights/best.pt\"\n",
    "\n",
    "# 2. Charger le modèle PPE (sans device ici)\n",
    "model_ppe = YOLO(best_pt_path)\n",
    "print(\"✅ Modèle PPE chargé :\", best_pt_path)\n",
    "\n",
    "# 3. Déplacer tous les poids du modèle sur le CPU\n",
    "model_ppe.model.cpu()\n",
    "\n",
    "# 4. Définir le dossier test/images et lister toutes les .jpg\n",
    "data_dir    = Path(\"/home/maxime/DataDevIA/computervision/datasetcomputervision/css-data\")\n",
    "test_img_dir = data_dir / \"test\" / \"images\"\n",
    "test_imgs    = glob.glob(str(test_img_dir / \"*.jpg\"))\n",
    "print(f\"✅ {len(test_imgs)} images trouvées dans « {test_img_dir} »\")\n",
    "\n",
    "# 5. Créer (si besoin) le dossier de sortie predict_ppe\n",
    "output_dir = Path(\"/home/maxime/DataDevIA/computervision/security-checker\") / \"runs\" / \"detect\" / \"predict_ppe\"\n",
    "output_dir.mkdir(parents=True, exist_ok=True)\n",
    "print(\"→ Les prédictions seront enregistrées sous :\", output_dir)\n",
    "\n",
    "# 6. Lancer la prédiction sur CPU\n",
    "model_ppe.predict(\n",
    "    source=test_imgs,               # liste de chemins .jpg\n",
    "    device=\"cpu\",                   # forcer CPU\n",
    "    save=True,\n",
    "    project=str(Path(\"/home/maxime/DataDevIA/computervision/security-checker\") / \"runs\" / \"detect\"),\n",
    "    name=\"predict_ppe\",\n",
    "    exist_ok=True\n",
    ")\n",
    "\n",
    "print(\"✅ Prédictions sauvegardées dans :\", output_dir)\n",
    "\n",
    "\n"
   ]
  },
  {
   "cell_type": "code",
   "execution_count": 10,
   "id": "1239758b",
   "metadata": {},
   "outputs": [
    {
     "name": "stdout",
     "output_type": "stream",
     "text": [
      "Ultralytics 8.3.151 🚀 Python-3.12.3 torch-2.7.1+cu118 CPU (AMD Ryzen 7 5800H with Radeon Graphics)\n",
      "\u001b[34m\u001b[1mval: \u001b[0mFast image access ✅ (ping: 0.0±0.0 ms, read: 262.3±87.5 MB/s, size: 59.5 KB)\n"
     ]
    },
    {
     "name": "stderr",
     "output_type": "stream",
     "text": [
      "\u001b[34m\u001b[1mval: \u001b[0mScanning /home/maxime/DataDevIA/computervision/datasetcomputervision/css-data/valid/labels.cache... 114 images, 10 backgrounds, 0 corrupt: 100%|██████████| 114/114 [00:00<?, ?it/s]\n",
      "                 Class     Images  Instances      Box(P          R      mAP50  mAP50-95): 100%|██████████| 8/8 [00:12<00:00,  1.51s/it]\n"
     ]
    },
    {
     "name": "stdout",
     "output_type": "stream",
     "text": [
      "                   all        114        697      0.814      0.668      0.725      0.394\n",
      "               Hardhat         42         79      0.953      0.747      0.832      0.521\n",
      "                  Mask         19         21      0.977      0.857      0.873      0.494\n",
      "            NO-Hardhat         37         69      0.792      0.507      0.609      0.277\n",
      "               NO-Mask         44         74      0.732      0.459      0.525      0.224\n",
      "        NO-Safety Vest         56        106      0.805      0.538      0.626      0.311\n",
      "                Person         84        166       0.81      0.663      0.769       0.45\n",
      "           Safety Cone         13         44      0.805      0.818      0.863       0.44\n",
      "           Safety Vest         28         41      0.939      0.745       0.82      0.443\n",
      "             Machinery         26         55       0.77      0.818      0.854      0.496\n",
      "               Vehicle         16         42      0.554      0.524      0.484      0.289\n",
      "Speed: 3.5ms preprocess, 95.8ms inference, 0.0ms loss, 1.4ms postprocess per image\n",
      "Results saved to \u001b[1m/home/maxime/DataDevIA/computervision/security-checker/runs/detect/val\u001b[0m\n",
      "\n",
      "→ Résultats globaux :\n",
      "  • Precision : 0.814\n",
      "  • Recall    : 0.668\n",
      "  • mAP50     : 0.725\n",
      "  • mAP50-95  : 0.394\n",
      "\n",
      "→ mAP50 par classe :\n",
      "  • Hardhat       : 0.521\n",
      "  • Mask          : 0.494\n",
      "  • NO-Hardhat    : 0.277\n",
      "  • NO-Mask       : 0.224\n",
      "  • NO-Safety Vest : 0.311\n",
      "  • Person        : 0.450\n",
      "  • Safety Cone   : 0.440\n",
      "  • Safety Vest   : 0.443\n",
      "  • Machinery     : 0.496\n",
      "  • Vehicle       : 0.289\n"
     ]
    }
   ],
   "source": [
    "# Relancer la validation, cette fois en CPU ou avec workers=0 si nécessaire\n",
    "metrics = model_ppe.val(\n",
    "    data=str(CFG.DATA_YAML),\n",
    "    imgsz=CFG.IMG_SIZE,\n",
    "    save=True,\n",
    "    device=\"cpu\",     # ou workers=0 si vous souhaitez rester en GPU\n",
    ")\n",
    "\n",
    "# quick_metrics les affiche déjà, mais on peut aussi extraire le dictionnaire complet :\n",
    "md = metrics.results_dict\n",
    "print(\"\\n→ Résultats globaux :\")\n",
    "print(f\"  • Precision : {md['metrics/precision(B)']:.3f}\")\n",
    "print(f\"  • Recall    : {md['metrics/recall(B)']:.3f}\")\n",
    "print(f\"  • mAP50     : {md['metrics/mAP50(B)']:.3f}\")\n",
    "print(f\"  • mAP50-95  : {md['metrics/mAP50-95(B)']:.3f}\")\n",
    "\n",
    "print(\"\\n→ mAP50 par classe :\")\n",
    "for idx, cls_name in CFG.PPE_CLASSES.items():\n",
    "    print(f\"  • {cls_name:<13} : {metrics.maps[idx]:.3f}\")\n"
   ]
  },
  {
   "cell_type": "code",
   "execution_count": 11,
   "id": "d4d53848",
   "metadata": {},
   "outputs": [],
   "source": [
    "import glob, IPython.display as disp\n",
    "\n",
    "val_dir = Path(CFG.WORKING) / \"runs\" / \"detect\" / \"val\"\n",
    "all_png = glob.glob(str(val_dir / \"*\" / \"*.png\"))\n",
    "\n",
    "for img_path in sorted(all_png):\n",
    "    print(\"📊 Affichage :\", img_path.split(\"/\")[-1])\n",
    "    disp.display(disp.Image(img_path))\n",
    "\n"
   ]
  },
  {
   "cell_type": "code",
   "execution_count": 12,
   "id": "d0a0d3b3",
   "metadata": {},
   "outputs": [
    {
     "name": "stdout",
     "output_type": "stream",
     "text": [
      "✅ 82 images trouvées dans «/home/maxime/DataDevIA/computervision/datasetcomputervision/css-data/test/images/*.jpg»\n",
      "→ Les prédictions seront enregistrées sous : /home/maxime/DataDevIA/computervision/security-checker/runs/detect/predict_ppe\n",
      "\n",
      "0: 640x640 1 Person, 97.8ms\n",
      "1: 640x640 3 Hardhats, 4 NO-Masks, 3 NO-Safety Vests, 4 Persons, 97.8ms\n",
      "2: 640x640 1 Person, 1 Safety Vest, 97.8ms\n",
      "3: 640x640 2 Hardhats, 1 NO-Safety Vest, 1 Person, 97.8ms\n",
      "4: 640x640 (no detections), 97.8ms\n",
      "5: 640x640 2 Hardhats, 2 NO-Masks, 4 Persons, 97.8ms\n",
      "6: 640x640 1 Mask, 1 NO-Hardhat, 1 NO-Safety Vest, 1 Person, 97.8ms\n",
      "7: 640x640 1 Hardhat, 1 NO-Safety Vest, 1 Person, 15 Vehicles, 97.8ms\n",
      "8: 640x640 1 Hardhat, 1 Person, 1 Safety Vest, 97.8ms\n",
      "9: 640x640 1 Hardhat, 1 Person, 2 Machinerys, 1 Vehicle, 97.8ms\n",
      "10: 640x640 1 Mask, 1 NO-Hardhat, 1 NO-Safety Vest, 1 Person, 97.8ms\n",
      "11: 640x640 2 Hardhats, 2 NO-Masks, 2 NO-Safety Vests, 2 Persons, 1 Safety Vest, 97.8ms\n",
      "12: 640x640 7 Persons, 6 Machinerys, 9 Vehicles, 97.8ms\n",
      "13: 640x640 2 Hardhats, 2 NO-Safety Vests, 3 Persons, 97.8ms\n",
      "14: 640x640 1 NO-Hardhat, 1 NO-Safety Vest, 1 Person, 97.8ms\n",
      "15: 640x640 1 Machinery, 97.8ms\n",
      "16: 640x640 1 Mask, 2 NO-Hardhats, 1 NO-Safety Vest, 1 Person, 97.8ms\n",
      "17: 640x640 1 Person, 2 Vehicles, 97.8ms\n",
      "18: 640x640 (no detections), 97.8ms\n",
      "19: 640x640 24 Safety Cones, 2 Vehicles, 97.8ms\n",
      "20: 640x640 1 Person, 1 Safety Vest, 97.8ms\n",
      "21: 640x640 (no detections), 97.8ms\n",
      "22: 640x640 (no detections), 97.8ms\n",
      "23: 640x640 11 Hardhats, 1 NO-Hardhat, 6 NO-Masks, 6 NO-Safety Vests, 17 Persons, 97.8ms\n",
      "24: 640x640 1 Hardhat, 3 NO-Hardhats, 3 NO-Safety Vests, 3 Persons, 97.8ms\n",
      "25: 640x640 (no detections), 97.8ms\n",
      "26: 640x640 2 Persons, 97.8ms\n",
      "27: 640x640 2 Machinerys, 97.8ms\n",
      "28: 640x640 1 Hardhat, 1 Mask, 1 Person, 1 Safety Vest, 97.8ms\n",
      "29: 640x640 1 Machinery, 97.8ms\n",
      "30: 640x640 3 Machinerys, 97.8ms\n",
      "31: 640x640 7 Masks, 10 NO-Hardhats, 10 NO-Safety Vests, 14 Persons, 97.8ms\n",
      "32: 640x640 22 Hardhats, 30 NO-Masks, 40 Persons, 35 Safety Vests, 97.8ms\n",
      "33: 640x640 1 Hardhat, 1 NO-Hardhat, 2 NO-Safety Vests, 2 Persons, 97.8ms\n",
      "34: 640x640 3 Safety Cones, 1 Vehicle, 97.8ms\n",
      "35: 640x640 3 NO-Hardhats, 1 NO-Mask, 2 NO-Safety Vests, 4 Persons, 2 Machinerys, 97.8ms\n",
      "36: 640x640 3 Persons, 1 Safety Vest, 2 Machinerys, 8 Vehicles, 97.8ms\n",
      "37: 640x640 31 Safety Cones, 97.8ms\n",
      "38: 640x640 (no detections), 97.8ms\n",
      "39: 640x640 2 Machinerys, 97.8ms\n",
      "40: 640x640 1 NO-Hardhat, 1 NO-Mask, 3 NO-Safety Vests, 1 Person, 97.8ms\n",
      "41: 640x640 1 Mask, 1 NO-Hardhat, 1 NO-Safety Vest, 1 Person, 97.8ms\n",
      "42: 640x640 1 Mask, 1 NO-Hardhat, 1 NO-Safety Vest, 1 Person, 97.8ms\n",
      "43: 640x640 1 NO-Safety Vest, 4 Persons, 1 Safety Vest, 1 Machinery, 97.8ms\n",
      "44: 640x640 2 Hardhats, 2 Persons, 2 Safety Vests, 4 Vehicles, 97.8ms\n",
      "45: 640x640 3 Safety Cones, 97.8ms\n",
      "46: 640x640 1 Machinery, 97.8ms\n",
      "47: 640x640 1 Hardhat, 1 Person, 1 Safety Vest, 1 Machinery, 97.8ms\n",
      "48: 640x640 1 Person, 97.8ms\n",
      "49: 640x640 11 Hardhats, 13 NO-Masks, 10 NO-Safety Vests, 9 Persons, 97.8ms\n",
      "50: 640x640 1 Person, 1 Machinery, 97.8ms\n",
      "51: 640x640 1 Person, 1 Safety Vest, 2 Machinerys, 97.8ms\n",
      "52: 640x640 2 Persons, 1 Machinery, 97.8ms\n",
      "53: 640x640 2 Machinerys, 97.8ms\n",
      "54: 640x640 3 Hardhats, 2 NO-Masks, 1 NO-Safety Vest, 1 Person, 1 Safety Cone, 97.8ms\n",
      "55: 640x640 1 Mask, 1 NO-Hardhat, 1 NO-Safety Vest, 1 Person, 97.8ms\n",
      "56: 640x640 2 Machinerys, 97.8ms\n",
      "57: 640x640 (no detections), 97.8ms\n",
      "58: 640x640 11 Hardhats, 5 NO-Masks, 11 Persons, 8 Safety Vests, 97.8ms\n",
      "59: 640x640 2 Machinerys, 97.8ms\n",
      "60: 640x640 1 NO-Hardhat, 2 NO-Masks, 2 Persons, 1 Safety Vest, 97.8ms\n",
      "61: 640x640 1 Hardhat, 1 Mask, 1 Person, 1 Safety Vest, 97.8ms\n",
      "62: 640x640 4 Machinerys, 97.8ms\n",
      "63: 640x640 1 Mask, 1 NO-Hardhat, 1 NO-Safety Vest, 1 Person, 97.8ms\n",
      "64: 640x640 1 Mask, 1 NO-Hardhat, 1 NO-Safety Vest, 1 Person, 97.8ms\n",
      "65: 640x640 1 Mask, 1 NO-Hardhat, 1 NO-Safety Vest, 1 Person, 97.8ms\n",
      "66: 640x640 1 Hardhat, 1 NO-Mask, 1 Person, 1 Safety Vest, 2 Vehicles, 97.8ms\n",
      "67: 640x640 (no detections), 97.8ms\n",
      "68: 640x640 1 NO-Hardhat, 2 NO-Masks, 1 NO-Safety Vest, 1 Person, 97.8ms\n",
      "69: 640x640 5 Hardhats, 3 NO-Safety Vests, 6 Persons, 3 Safety Vests, 97.8ms\n",
      "70: 640x640 2 Machinerys, 97.8ms\n",
      "71: 640x640 4 Hardhats, 3 NO-Masks, 3 Persons, 2 Safety Vests, 97.8ms\n",
      "72: 640x640 6 Hardhats, 6 NO-Masks, 8 Persons, 7 Safety Vests, 97.8ms\n",
      "73: 640x640 4 Safety Cones, 1 Vehicle, 97.8ms\n",
      "74: 640x640 2 NO-Safety Vests, 1 Person, 97.8ms\n",
      "75: 640x640 1 Hardhat, 4 Persons, 3 Safety Vests, 1 Machinery, 2 Vehicles, 97.8ms\n",
      "76: 640x640 5 Safety Cones, 1 Vehicle, 97.8ms\n",
      "77: 640x640 3 Machinerys, 97.8ms\n",
      "78: 640x640 1 Hardhat, 2 NO-Masks, 1 Person, 1 Safety Vest, 97.8ms\n",
      "79: 640x640 1 Hardhat, 2 NO-Hardhats, 5 NO-Masks, 2 NO-Safety Vests, 2 Persons, 97.8ms\n",
      "80: 640x640 1 Mask, 1 NO-Hardhat, 1 NO-Safety Vest, 1 Person, 97.8ms\n",
      "81: 640x640 1 Hardhat, 2 NO-Masks, 1 Person, 1 Safety Vest, 97.8ms\n",
      "Speed: 2.6ms preprocess, 97.8ms inference, 0.4ms postprocess per image at shape (1, 3, 640, 640)\n",
      "Results saved to \u001b[1m/home/maxime/DataDevIA/computervision/security-checker/runs/detect/predict_ppe\u001b[0m\n",
      "✅ Prédictions sauvegardées dans : /home/maxime/DataDevIA/computervision/security-checker/runs/detect/predict_ppe\n"
     ]
    }
   ],
   "source": [
    "from pathlib import Path\n",
    "import glob\n",
    "\n",
    "# 1. Pointage vers le dossier test/images\n",
    "data_dir     = Path(\"/home/maxime/DataDevIA/computervision/datasetcomputervision/css-data\")\n",
    "test_img_dir = data_dir / \"test\" / \"images\"\n",
    "\n",
    "# 2. Liste explicite de tous les .jpg\n",
    "test_pattern = str(test_img_dir / \"*.jpg\")\n",
    "test_imgs    = glob.glob(test_pattern)\n",
    "print(f\"✅ {len(test_imgs)} images trouvées dans «{test_pattern}»\")\n",
    "\n",
    "# 3. (Re)crée le dossier de sortie runs/detect/predict_ppe\n",
    "output_dir = Path(\"/home/maxime/DataDevIA/computervision/security-checker\") \\\n",
    "                 / \"runs\" / \"detect\" / \"predict_ppe\"\n",
    "output_dir.mkdir(parents=True, exist_ok=True)\n",
    "print(\"→ Les prédictions seront enregistrées sous :\", output_dir)\n",
    "\n",
    "# 4. Assurez-vous que `model_ppe` est chargé et placé sur CPU en mode éval\n",
    "#    (on suppose que model_ppe a été instancié plus haut, par ex. :\n",
    "#     model_ppe = YOLO(\"/home/maxime/.../runs/detect/ppe_train/weights/best.pt\") )\n",
    "model_ppe.model.to(\"cpu\")\n",
    "model_ppe.model.eval()\n",
    "\n",
    "# 5. Lancez la prédiction sur CPU\n",
    "model_ppe.predict(\n",
    "    source=test_imgs,       # liste explicite de chemins .jpg\n",
    "    device=\"cpu\",           # forcer CPU (évite pin_memory/GPU)\n",
    "    save=True,\n",
    "    project=str(Path(\"/home/maxime/DataDevIA/computervision/security-checker\") / \"runs\" / \"detect\"),\n",
    "    name=\"predict_ppe\",\n",
    "    exist_ok=True\n",
    ")\n",
    "\n",
    "print(\"✅ Prédictions sauvegardées dans :\", output_dir)\n",
    "\n",
    "\n"
   ]
  },
  {
   "cell_type": "code",
   "execution_count": 13,
   "id": "d4827874",
   "metadata": {},
   "outputs": [
    {
     "name": "stdout",
     "output_type": "stream",
     "text": [
      "✨ best.pt sélectionné -> /home/maxime/DataDevIA/computervision/security-checker/runs/detect/ppe_train/weights/best.pt\n"
     ]
    }
   ],
   "source": [
    "def find_best_pt():\n",
    "    pattern = CFG.WORKING / 'runs' / 'detect' / '**' / 'weights' / 'best.pt'\n",
    "    best_candidates = list(glob.glob(str(pattern), recursive=True))\n",
    "    if not best_candidates:\n",
    "        raise FileNotFoundError('Aucun best.pt trouvé !')\n",
    "    best_pt = max(best_candidates, key=os.path.getmtime)\n",
    "    print('✨ best.pt sélectionné ->', best_pt)\n",
    "    return Path(best_pt)\n",
    "\n",
    "BEST_PT = find_best_pt()"
   ]
  },
  {
   "cell_type": "code",
   "execution_count": 14,
   "id": "4fcb8865",
   "metadata": {},
   "outputs": [
    {
     "name": "stdout",
     "output_type": "stream",
     "text": [
      "\n",
      "image 1/82 /home/maxime/DataDevIA/computervision/datasetcomputervision/css-data/test/images/-4405-_png_jpg.rf.82b5c10b2acd1cfaa24259ada8e599fe.jpg: 640x640 2 Machinerys, 72.3ms\n",
      "image 2/82 /home/maxime/DataDevIA/computervision/datasetcomputervision/css-data/test/images/000005_jpg.rf.96e9379ccae638140c4a90fc4b700a2b.jpg: 640x640 2 Hardhats, 2 NO-Masks, 4 Persons, 52.6ms\n",
      "image 3/82 /home/maxime/DataDevIA/computervision/datasetcomputervision/css-data/test/images/002551_jpg.rf.ce4b9f934161faa72c80dc6898d37b2d.jpg: 640x640 2 Hardhats, 2 NO-Safety Vests, 3 Persons, 73.5ms\n",
      "image 4/82 /home/maxime/DataDevIA/computervision/datasetcomputervision/css-data/test/images/003357_jpg.rf.9867f91e88089bb68dc95947d5116d14.jpg: 640x640 3 Hardhats, 2 NO-Masks, 1 NO-Safety Vest, 1 Person, 1 Safety Cone, 56.0ms\n",
      "image 5/82 /home/maxime/DataDevIA/computervision/datasetcomputervision/css-data/test/images/004063_jpg.rf.1b7cdc4035bcb24ef69b8798b444053e.jpg: 640x640 5 Hardhats, 3 NO-Safety Vests, 6 Persons, 3 Safety Vests, 53.4ms\n",
      "image 6/82 /home/maxime/DataDevIA/computervision/datasetcomputervision/css-data/test/images/004763_jpg.rf.46484e6ca73caeaa9de45822cf1085a9.jpg: 640x640 3 Hardhats, 4 NO-Masks, 3 NO-Safety Vests, 4 Persons, 51.0ms\n",
      "image 7/82 /home/maxime/DataDevIA/computervision/datasetcomputervision/css-data/test/images/006463_jpg.rf.02f19082420ecc5537b9d59abbe6050c.jpg: 640x640 11 Hardhats, 13 NO-Masks, 10 NO-Safety Vests, 9 Persons, 52.8ms\n",
      "image 8/82 /home/maxime/DataDevIA/computervision/datasetcomputervision/css-data/test/images/006672_jpg.rf.87d5978c486feb53177408cf00a0d87f.jpg: 640x640 6 Hardhats, 6 NO-Masks, 8 Persons, 7 Safety Vests, 51.6ms\n",
      "image 9/82 /home/maxime/DataDevIA/computervision/datasetcomputervision/css-data/test/images/0_jpg.rf.2ff49f74309118f169e07aa12564df87.jpg: 640x640 1 Hardhat, 4 Persons, 3 Safety Vests, 1 Machinery, 2 Vehicles, 55.1ms\n",
      "image 10/82 /home/maxime/DataDevIA/computervision/datasetcomputervision/css-data/test/images/2008_008320_jpg.rf.bd34011d46f82f9410d95f00e560b8ea.jpg: 640x640 1 NO-Hardhat, 2 NO-Masks, 2 Persons, 1 Safety Vest, 49.9ms\n",
      "image 11/82 /home/maxime/DataDevIA/computervision/datasetcomputervision/css-data/test/images/2008_008519_jpg.rf.1798c8eed7de04399a0e7e297b4b4c9e.jpg: 640x640 1 NO-Safety Vest, 4 Persons, 1 Safety Vest, 1 Machinery, 58.1ms\n",
      "image 12/82 /home/maxime/DataDevIA/computervision/datasetcomputervision/css-data/test/images/2009_000059_jpg.rf.50e8398a37eb33f33fd9f662feeea083.jpg: 640x640 1 NO-Hardhat, 2 NO-Masks, 1 NO-Safety Vest, 1 Person, 61.7ms\n",
      "image 13/82 /home/maxime/DataDevIA/computervision/datasetcomputervision/css-data/test/images/2009_000496_jpg.rf.9a2d210fe0f5ea4b572aeb07e41ecbae.jpg: 640x640 2 Persons, 59.9ms\n",
      "image 14/82 /home/maxime/DataDevIA/computervision/datasetcomputervision/css-data/test/images/3e7e40981ddd4cdb055c7ffe4c2af5d8_jpg.rf.bac50dc18195e9aeb6f3a21782a3efcb.jpg: 640x640 (no detections), 57.4ms\n",
      "image 15/82 /home/maxime/DataDevIA/computervision/datasetcomputervision/css-data/test/images/777_jpg.rf.92dc6945342410ced7ac93f3dfbff0c5.jpg: 640x640 3 Safety Cones, 58.5ms\n",
      "image 16/82 /home/maxime/DataDevIA/computervision/datasetcomputervision/css-data/test/images/Bookstore_More_Merchandise_jpg.rf.7ab5add3e28ced74f9b316e794cc04d2.jpg: 640x640 (no detections), 55.4ms\n",
      "image 17/82 /home/maxime/DataDevIA/computervision/datasetcomputervision/css-data/test/images/IMG_0871_MOV-12_jpg.rf.36858a9d51613f9a39b7855b54dfa098.jpg: 640x640 1 Mask, 1 NO-Hardhat, 1 NO-Safety Vest, 1 Person, 55.6ms\n",
      "image 18/82 /home/maxime/DataDevIA/computervision/datasetcomputervision/css-data/test/images/IMG_0871_mp4-11_jpg.rf.432092b53ebeb84f4b9b27b40343c9aa.jpg: 640x640 1 Mask, 1 NO-Hardhat, 1 NO-Safety Vest, 1 Person, 65.9ms\n",
      "image 19/82 /home/maxime/DataDevIA/computervision/datasetcomputervision/css-data/test/images/IMG_0871_mp4-23_jpg.rf.03f872b1ed87ad7fadc85e09475ad37a.jpg: 640x640 1 Mask, 1 NO-Hardhat, 1 NO-Safety Vest, 1 Person, 55.8ms\n",
      "image 20/82 /home/maxime/DataDevIA/computervision/datasetcomputervision/css-data/test/images/IMG_3100_mp4-12_jpg.rf.58849ca6a931c2cfe1b17fb4206d9d82.jpg: 640x640 1 Mask, 1 NO-Hardhat, 1 NO-Safety Vest, 1 Person, 57.1ms\n",
      "image 21/82 /home/maxime/DataDevIA/computervision/datasetcomputervision/css-data/test/images/IMG_3100_mp4-9_jpg.rf.413ccf5fe4a7ee67f71e07c2c43b6756.jpg: 640x640 1 Mask, 1 NO-Hardhat, 1 NO-Safety Vest, 1 Person, 51.3ms\n",
      "image 22/82 /home/maxime/DataDevIA/computervision/datasetcomputervision/css-data/test/images/IMG_3103_mp4-9_jpg.rf.b31bd2d816465a27aa1eb072f90bb5aa.jpg: 640x640 1 Mask, 1 NO-Hardhat, 1 NO-Safety Vest, 1 Person, 52.8ms\n",
      "image 23/82 /home/maxime/DataDevIA/computervision/datasetcomputervision/css-data/test/images/IMG_5846_jpg.rf.0b9984069116e2acd928568eb7a8e214.jpg: 640x640 22 Hardhats, 30 NO-Masks, 40 Persons, 35 Safety Vests, 54.0ms\n",
      "image 24/82 /home/maxime/DataDevIA/computervision/datasetcomputervision/css-data/test/images/Image36_jpg.rf.8704f3450f736cdd01a61dcee588f2c2.jpg: 640x640 11 Hardhats, 1 NO-Hardhat, 6 NO-Masks, 6 NO-Safety Vests, 17 Persons, 52.0ms\n",
      "image 25/82 /home/maxime/DataDevIA/computervision/datasetcomputervision/css-data/test/images/Inside-merge_mov-58_jpg.rf.50147e19cb655e74c2df0047113e82b2.jpg: 640x640 (no detections), 57.3ms\n",
      "image 26/82 /home/maxime/DataDevIA/computervision/datasetcomputervision/css-data/test/images/Movie-on-10-31-22-at-10_08-AM_mov-20_jpg.rf.aea4278b41550cdb75df5891a26052e7.jpg: 640x640 1 Mask, 1 NO-Hardhat, 1 NO-Safety Vest, 1 Person, 51.8ms\n",
      "image 27/82 /home/maxime/DataDevIA/computervision/datasetcomputervision/css-data/test/images/Movie-on-10-31-22-at-10_08-AM_mov-24_jpg.rf.c50014f3510a484e5bd565460fd0fd5c.jpg: 640x640 1 Mask, 2 NO-Hardhats, 1 NO-Safety Vest, 1 Person, 50.5ms\n",
      "image 28/82 /home/maxime/DataDevIA/computervision/datasetcomputervision/css-data/test/images/NX_img_177_jpg.rf.c03709e5fadfe2109411f05a9e9bc25f.jpg: 640x640 1 Hardhat, 3 NO-Hardhats, 3 NO-Safety Vests, 3 Persons, 54.0ms\n",
      "image 29/82 /home/maxime/DataDevIA/computervision/datasetcomputervision/css-data/test/images/RPReplay_Final1667001201_MP4-100_jpg.rf.9a1b50c4301c53b3ae534c6353337df9.jpg: 640x640 1 Mask, 1 NO-Hardhat, 1 NO-Safety Vest, 1 Person, 52.9ms\n",
      "image 30/82 /home/maxime/DataDevIA/computervision/datasetcomputervision/css-data/test/images/autox3_mp4-187_jpg.rf.8340e2bd65afade3fb0d3194eadc5796.jpg: 640x640 5 Safety Cones, 1 Vehicle, 53.7ms\n",
      "image 31/82 /home/maxime/DataDevIA/computervision/datasetcomputervision/css-data/test/images/autox3_mp4-277_jpg.rf.a5ed8fd043fe7e1d8682768880b6d4db.jpg: 640x640 31 Safety Cones, 52.2ms\n",
      "image 32/82 /home/maxime/DataDevIA/computervision/datasetcomputervision/css-data/test/images/autox3_mp4-65_jpg.rf.d933ce48947fa9bdb55dc702a0879ac9.jpg: 640x640 3 Safety Cones, 1 Vehicle, 60.1ms\n",
      "image 33/82 /home/maxime/DataDevIA/computervision/datasetcomputervision/css-data/test/images/autox_mp4-44_jpg.rf.5048603ee6ccedf9ae6e3f787b7f82ff.jpg: 640x640 24 Safety Cones, 2 Vehicles, 51.8ms\n",
      "image 34/82 /home/maxime/DataDevIA/computervision/datasetcomputervision/css-data/test/images/bookstore_44_08_flickr_jpg.rf.244b6f308c529933af798c4063e58601.jpg: 640x640 (no detections), 54.0ms\n",
      "image 35/82 /home/maxime/DataDevIA/computervision/datasetcomputervision/css-data/test/images/class1_150_jpg.rf.5995dce34d38deb9eb0b6e36cae78f17.jpg: 640x640 1 Hardhat, 1 NO-Hardhat, 2 NO-Safety Vests, 2 Persons, 50.3ms\n",
      "image 36/82 /home/maxime/DataDevIA/computervision/datasetcomputervision/css-data/test/images/class2_131_jpg.rf.ad8314a9273471f1280ce8789ea75376.jpg: 640x640 1 NO-Hardhat, 1 NO-Safety Vest, 1 Person, 52.7ms\n",
      "image 37/82 /home/maxime/DataDevIA/computervision/datasetcomputervision/css-data/test/images/class2_145_jpg.rf.b8ed5a5357ee41f8fb1aa9b01a400d51.jpg: 640x640 1 Hardhat, 2 NO-Hardhats, 5 NO-Masks, 2 NO-Safety Vests, 2 Persons, 52.5ms\n",
      "image 38/82 /home/maxime/DataDevIA/computervision/datasetcomputervision/css-data/test/images/construction-1159-_jpg.rf.9f3172102a34edb157b556a73931c831.jpg: 640x640 1 Machinery, 52.6ms\n",
      "image 39/82 /home/maxime/DataDevIA/computervision/datasetcomputervision/css-data/test/images/construction-192-_jpg.rf.56dd5c4c1396c6ad01be4fbec3bca46f.jpg: 640x640 2 Machinerys, 60.2ms\n",
      "image 40/82 /home/maxime/DataDevIA/computervision/datasetcomputervision/css-data/test/images/construction-2-_mp4-13_jpg.rf.cef0975976346515d438e0c2ce6c59db.jpg: 640x640 2 Machinerys, 63.4ms\n",
      "image 41/82 /home/maxime/DataDevIA/computervision/datasetcomputervision/css-data/test/images/construction-2-_mp4-162_jpg.rf.efad5f15524c736fe03b9c9936adc481.jpg: 640x640 3 Machinerys, 57.8ms\n",
      "image 42/82 /home/maxime/DataDevIA/computervision/datasetcomputervision/css-data/test/images/construction-2-_mp4-84_jpg.rf.e8d6bb0acc5c6e82c1a2d260ddf3135e.jpg: 640x640 2 Machinerys, 53.6ms\n",
      "image 43/82 /home/maxime/DataDevIA/computervision/datasetcomputervision/css-data/test/images/construction-275-_jpg.rf.e1c57987f9dc262aad1d7c67b694fd87.jpg: 640x640 1 Machinery, 49.2ms\n",
      "image 44/82 /home/maxime/DataDevIA/computervision/datasetcomputervision/css-data/test/images/construction-597-_jpg.rf.e18e918aae0aeecfdf8348513636d344.jpg: 640x640 2 Machinerys, 51.7ms\n",
      "image 45/82 /home/maxime/DataDevIA/computervision/datasetcomputervision/css-data/test/images/construction-639-_jpg.rf.7db2168ad99f643f7e3070733387e3bb.jpg: 640x640 1 Person, 1 Machinery, 58.0ms\n",
      "image 46/82 /home/maxime/DataDevIA/computervision/datasetcomputervision/css-data/test/images/construction-651-_jpg.rf.8fa283ce7693dbdf29eb98384f24cb85.jpg: 640x640 1 Machinery, 58.1ms\n",
      "image 47/82 /home/maxime/DataDevIA/computervision/datasetcomputervision/css-data/test/images/construction-675-_jpg.rf.bb4a05441be707256175e04929da3478.jpg: 640x640 2 Persons, 1 Machinery, 53.8ms\n",
      "image 48/82 /home/maxime/DataDevIA/computervision/datasetcomputervision/css-data/test/images/construction-800-_jpg.rf.a01fcddd0db9cc89c0cacf4af88c468d.jpg: 640x640 2 Machinerys, 52.1ms\n",
      "image 49/82 /home/maxime/DataDevIA/computervision/datasetcomputervision/css-data/test/images/construction-843-_jpg.rf.c0ca85a10f6ad3c1375b37e52a51eeed.jpg: 640x640 4 Machinerys, 52.9ms\n",
      "image 50/82 /home/maxime/DataDevIA/computervision/datasetcomputervision/css-data/test/images/image_53_jpg.rf.3446e366b5d4d905a32e1aedc8fe87de.jpg: 640x640 1 Hardhat, 1 Mask, 1 Person, 1 Safety Vest, 56.2ms\n",
      "image 51/82 /home/maxime/DataDevIA/computervision/datasetcomputervision/css-data/test/images/image_55_jpg.rf.27ae4341a9b9647d73a8929ff7a22369.jpg: 640x640 1 Hardhat, 1 Mask, 1 Person, 1 Safety Vest, 54.1ms\n",
      "image 52/82 /home/maxime/DataDevIA/computervision/datasetcomputervision/css-data/test/images/ka_01181_png_jpg.rf.154ee4ef254eabd62e316be50470c578.jpg: 640x640 4 Safety Cones, 1 Vehicle, 51.2ms\n",
      "image 53/82 /home/maxime/DataDevIA/computervision/datasetcomputervision/css-data/test/images/librairie_51_jpg.rf.56b0500ae2ad3820b4286133b627e59c.jpg: 640x640 (no detections), 55.4ms\n",
      "image 54/82 /home/maxime/DataDevIA/computervision/datasetcomputervision/css-data/test/images/maksssksksss17_png_jpg.rf.f685b497756b1facbf3d4c2d2d22c0d2.jpg: 640x640 1 Mask, 1 NO-Hardhat, 1 NO-Safety Vest, 1 Person, 52.1ms\n",
      "image 55/82 /home/maxime/DataDevIA/computervision/datasetcomputervision/css-data/test/images/ppe_0018_jpg.rf.be66fabcc8627f60d963454b5a227095.jpg: 640x640 2 Hardhats, 2 NO-Masks, 2 NO-Safety Vests, 2 Persons, 1 Safety Vest, 53.2ms\n",
      "image 56/82 /home/maxime/DataDevIA/computervision/datasetcomputervision/css-data/test/images/ppe_1073_jpg.rf.72ea8a293a4f3e1135219e33701b1099.jpg: 640x640 11 Hardhats, 5 NO-Masks, 11 Persons, 8 Safety Vests, 51.7ms\n",
      "image 57/82 /home/maxime/DataDevIA/computervision/datasetcomputervision/css-data/test/images/thumbnail-ba5c72edb320b49a69e86b05775c49b2-scaled-1_jpeg_jpg.rf.3bb460e284098219861b894fb0db13d5.jpg: 640x640 7 Masks, 10 NO-Hardhats, 10 NO-Safety Vests, 14 Persons, 59.9ms\n",
      "image 58/82 /home/maxime/DataDevIA/computervision/datasetcomputervision/css-data/test/images/youtube-108_jpg.rf.9dc7ed5f816f07d520f3dbfaad08d40f.jpg: 640x640 4 Hardhats, 3 NO-Masks, 3 Persons, 2 Safety Vests, 57.6ms\n",
      "image 59/82 /home/maxime/DataDevIA/computervision/datasetcomputervision/css-data/test/images/youtube-114_jpg.rf.5e02b6574ace1f4b3689befbc5051cd0.jpg: 640x640 2 NO-Safety Vests, 1 Person, 54.6ms\n",
      "image 60/82 /home/maxime/DataDevIA/computervision/datasetcomputervision/css-data/test/images/youtube-126_jpg.rf.786824e90daf3276130ca73ca610a8da.jpg: 640x640 3 NO-Hardhats, 1 NO-Mask, 2 NO-Safety Vests, 4 Persons, 2 Machinerys, 52.4ms\n",
      "image 61/82 /home/maxime/DataDevIA/computervision/datasetcomputervision/css-data/test/images/youtube-152_jpg.rf.9147878e3ddda845e58f7d9c041f1338.jpg: 640x640 7 Persons, 6 Machinerys, 9 Vehicles, 53.0ms\n",
      "image 62/82 /home/maxime/DataDevIA/computervision/datasetcomputervision/css-data/test/images/youtube-186_jpg.rf.1f1d93447d4be3233c22c4ce9f6e0601.jpg: 640x640 1 Hardhat, 1 Person, 1 Safety Vest, 51.8ms\n",
      "image 63/82 /home/maxime/DataDevIA/computervision/datasetcomputervision/css-data/test/images/youtube-192_jpg.rf.93bea040de8cd55f34ffb12f6ffe30b1.jpg: 640x640 1 NO-Hardhat, 1 NO-Mask, 3 NO-Safety Vests, 1 Person, 54.2ms\n",
      "image 64/82 /home/maxime/DataDevIA/computervision/datasetcomputervision/css-data/test/images/youtube-198_jpg.rf.e89faeb9765c6bd6cece5434d140f4af.jpg: 640x640 1 Person, 1 Safety Vest, 2 Machinerys, 53.3ms\n",
      "image 65/82 /home/maxime/DataDevIA/computervision/datasetcomputervision/css-data/test/images/youtube-213_jpg.rf.da70b1d8cefd3cc9d56e43bb88dfb67d.jpg: 640x640 1 Hardhat, 1 Person, 1 Safety Vest, 1 Machinery, 54.5ms\n",
      "image 66/82 /home/maxime/DataDevIA/computervision/datasetcomputervision/css-data/test/images/youtube-237_jpg.rf.d07a927721fe259757237c3706ea22e5.jpg: 640x640 1 Hardhat, 1 NO-Safety Vest, 1 Person, 15 Vehicles, 61.3ms\n",
      "image 67/82 /home/maxime/DataDevIA/computervision/datasetcomputervision/css-data/test/images/youtube-253_jpg.rf.5ad0a2d701e20141940508b809584856.jpg: 640x640 (no detections), 58.5ms\n",
      "image 68/82 /home/maxime/DataDevIA/computervision/datasetcomputervision/css-data/test/images/youtube-263_jpg.rf.374e343e12ead395440dbd81417e1be9.jpg: 640x640 3 Persons, 1 Safety Vest, 2 Machinerys, 8 Vehicles, 55.0ms\n",
      "image 69/82 /home/maxime/DataDevIA/computervision/datasetcomputervision/css-data/test/images/youtube-263_jpg.rf.bb17b89dd2ec9a090ce53b728f48865e.jpg: 640x640 2 Hardhats, 1 NO-Safety Vest, 1 Person, 52.0ms\n",
      "image 70/82 /home/maxime/DataDevIA/computervision/datasetcomputervision/css-data/test/images/youtube-34_jpg.rf.03eacc444bae3c5caa3fef5c736c3e40.jpg: 640x640 1 Hardhat, 1 Person, 2 Machinerys, 1 Vehicle, 57.3ms\n",
      "image 71/82 /home/maxime/DataDevIA/computervision/datasetcomputervision/css-data/test/images/youtube-388_jpg.rf.18caa1da4f818a65f73e48463cb2270e.jpg: 640x640 3 Machinerys, 53.2ms\n",
      "image 72/82 /home/maxime/DataDevIA/computervision/datasetcomputervision/css-data/test/images/youtube-462_jpg.rf.df73aa5089a04b8fbf3adf9d614a6740.jpg: 640x640 2 Hardhats, 2 Persons, 2 Safety Vests, 4 Vehicles, 52.3ms\n",
      "image 73/82 /home/maxime/DataDevIA/computervision/datasetcomputervision/css-data/test/images/youtube-471_jpg.rf.4296b7bd9a5a07753077beddbcd651bf.jpg: 640x640 1 Person, 1 Safety Vest, 57.6ms\n",
      "image 74/82 /home/maxime/DataDevIA/computervision/datasetcomputervision/css-data/test/images/youtube-472_jpg.rf.e9425ff40c0df2beeef70abbc2324956.jpg: 640x640 1 Person, 1 Safety Vest, 52.3ms\n",
      "image 75/82 /home/maxime/DataDevIA/computervision/datasetcomputervision/css-data/test/images/youtube-496_jpg.rf.def4e9964e9a354d0a02f4ac14334a73.jpg: 640x640 (no detections), 52.9ms\n",
      "image 76/82 /home/maxime/DataDevIA/computervision/datasetcomputervision/css-data/test/images/youtube-510_jpg.rf.62f82e36d134d53587edb48f291986f4.jpg: 640x640 1 Person, 54.4ms\n",
      "image 77/82 /home/maxime/DataDevIA/computervision/datasetcomputervision/css-data/test/images/youtube-53_jpg.rf.e96f8f81389f4e63a79663095680a617.jpg: 640x640 1 Person, 2 Vehicles, 50.4ms\n",
      "image 78/82 /home/maxime/DataDevIA/computervision/datasetcomputervision/css-data/test/images/youtube-596_jpg.rf.11a8a4ac01d8aadb80eeb0406dfa579a.jpg: 640x640 1 Person, 48.7ms\n",
      "image 79/82 /home/maxime/DataDevIA/computervision/datasetcomputervision/css-data/test/images/youtube-631_jpg.rf.7c6ecf859c1b0a659f8ea057ad27aebd.jpg: 640x640 1 Hardhat, 2 NO-Masks, 1 Person, 1 Safety Vest, 54.1ms\n",
      "image 80/82 /home/maxime/DataDevIA/computervision/datasetcomputervision/css-data/test/images/youtube-671_jpg.rf.7b08643d6754cabe6caf2b49a963de47.jpg: 640x640 (no detections), 57.8ms\n",
      "image 81/82 /home/maxime/DataDevIA/computervision/datasetcomputervision/css-data/test/images/youtube-738_jpg.rf.6f300b76e12b325f7c373c95ef319005.jpg: 640x640 1 Hardhat, 2 NO-Masks, 1 Person, 1 Safety Vest, 52.1ms\n",
      "image 82/82 /home/maxime/DataDevIA/computervision/datasetcomputervision/css-data/test/images/youtube-840_jpg.rf.974a83a7c5aee7c16e83435b043c6d96.jpg: 640x640 1 Hardhat, 1 NO-Mask, 1 Person, 1 Safety Vest, 2 Vehicles, 54.1ms\n",
      "Speed: 1.4ms preprocess, 55.0ms inference, 0.7ms postprocess per image at shape (1, 3, 640, 640)\n",
      "Results saved to \u001b[1m/home/maxime/DataDevIA/computervision/security-checker/runs/detect/predict_ppe\u001b[0m\n",
      "✅ Prédictions sauvegardées dans : /home/maxime/DataDevIA/computervision/security-checker/runs/detect/predict_ppe\n"
     ]
    }
   ],
   "source": [
    "test_pattern = str(CFG.DATA_DIR / \"test\" / \"images\" / \"*.jpg\")\n",
    "output_dir = CFG.WORKING / \"runs\" / \"detect\" / \"predict_ppe\"\n",
    "\n",
    "# On force le predict() à tourner sur CPU, pour éviter le bug pin_memory/GPU\n",
    "model_ppe.predict(\n",
    "    source=test_pattern,\n",
    "    device=\"cpu\",              # <--- ici on force l’inférence sur CPU\n",
    "    save=True,\n",
    "    project=str(CFG.WORKING / \"runs\" / \"detect\"),\n",
    "    name=\"predict_ppe\",\n",
    "    exist_ok=True\n",
    ")\n",
    "\n",
    "print(\"✅ Prédictions sauvegardées dans :\", output_dir)\n",
    "\n"
   ]
  },
  {
   "cell_type": "code",
   "execution_count": 15,
   "id": "1872fa8b",
   "metadata": {},
   "outputs": [],
   "source": [
    "import IPython.display as disp, glob\n",
    "val_pngs = glob.glob(str(CFG.WORKING / 'runs' / 'detect' / 'val' / '*' / 'results.png'))\n",
    "if val_pngs:\n",
    "    disp.display(disp.Image(val_pngs[-1]))"
   ]
  },
  {
   "cell_type": "markdown",
   "id": "ade78543",
   "metadata": {},
   "source": [
    "### 🖼️ Fonctions de détection / filtrage"
   ]
  },
  {
   "cell_type": "code",
   "execution_count": 16,
   "id": "c0ff48ff",
   "metadata": {},
   "outputs": [],
   "source": [
    "def detect_all_classes(image_paths, model=model_ppe):\n",
    "    rows = []\n",
    "    for p in image_paths:\n",
    "        res = model(p)\n",
    "        boxes = []\n",
    "        classes = set()\n",
    "        for r in res:\n",
    "            for b in r.boxes:\n",
    "                idx = int(b.cls)\n",
    "                if idx not in CFG.PPE_CLASSES:\n",
    "                    continue\n",
    "                label = CFG.PPE_CLASSES[idx]\n",
    "                boxes.append({'label': label, 'confidence': float(b.conf), 'coords': tuple(map(int, b.xyxy[0]))})\n",
    "                classes.add(label)\n",
    "        rows.append({'image_path': p, 'detected_boxes': boxes, 'detected_classes': sorted(classes)})\n",
    "    return pd.DataFrame(rows)\n",
    "\n",
    "def filter_images(df, allowed=None):\n",
    "    \"\"\"Garde uniquement les lignes dont detected_classes est sous‑ensemble de allowed (si allowed fourni).\"\"\"\n",
    "    if allowed is None:\n",
    "        return df\n",
    "    allowed = set(allowed)\n",
    "    return df[df['detected_classes'].apply(lambda cls: set(cls).issubset(allowed))]"
   ]
  },
  {
   "cell_type": "code",
   "execution_count": 27,
   "id": "3048399e",
   "metadata": {},
   "outputs": [
    {
     "name": "stdout",
     "output_type": "stream",
     "text": [
      "['/home/maxime/DataDevIA/computervision/datasetcomputervision/css-data/valid/images/construction-277-_jpg.rf.bf73a4edc7a1f7d412bc3267cbafcda7.jpg', '/home/maxime/DataDevIA/computervision/datasetcomputervision/css-data/valid/images/autox4_mp4-72_jpg.rf.5e9c1836f027bf40eb8898e68f2efdeb.jpg', '/home/maxime/DataDevIA/computervision/datasetcomputervision/css-data/valid/images/IMG_3103_mp4-17_jpg.rf.3223d405c1b3657aa54e170e32c8fe52.jpg']\n",
      "[True, True, True]\n"
     ]
    }
   ],
   "source": [
    "# Vérifiez que le fichier existe et affichez la première image\n",
    "import os\n",
    "print(sample_imgs[:3])\n",
    "print([os.path.exists(p) for p in sample_imgs[:3]])\n"
   ]
  },
  {
   "cell_type": "code",
   "execution_count": 28,
   "id": "bdee130e",
   "metadata": {},
   "outputs": [
    {
     "name": "stdout",
     "output_type": "stream",
     "text": [
      "\n",
      "image 1/1 /home/maxime/DataDevIA/computervision/datasetcomputervision/css-data/valid/images/construction-277-_jpg.rf.bf73a4edc7a1f7d412bc3267cbafcda7.jpg: 640x640 2 Machinerys, 62.0ms\n",
      "Speed: 2.0ms preprocess, 62.0ms inference, 1.1ms postprocess per image at shape (1, 3, 640, 640)\n",
      "\n",
      "image 1/1 /home/maxime/DataDevIA/computervision/datasetcomputervision/css-data/valid/images/autox4_mp4-72_jpg.rf.5e9c1836f027bf40eb8898e68f2efdeb.jpg: 640x640 8 Safety Cones, 1 Vehicle, 61.6ms\n",
      "Speed: 1.2ms preprocess, 61.6ms inference, 0.9ms postprocess per image at shape (1, 3, 640, 640)\n",
      "\n",
      "image 1/1 /home/maxime/DataDevIA/computervision/datasetcomputervision/css-data/valid/images/IMG_3103_mp4-17_jpg.rf.3223d405c1b3657aa54e170e32c8fe52.jpg: 640x640 1 Mask, 1 NO-Hardhat, 1 NO-Safety Vest, 1 Person, 78.0ms\n",
      "Speed: 12.4ms preprocess, 78.0ms inference, 0.7ms postprocess per image at shape (1, 3, 640, 640)\n",
      "\n",
      "image 1/1 /home/maxime/DataDevIA/computervision/datasetcomputervision/css-data/valid/images/youtube-226_jpg.rf.dd9d045ca17155289bcebe722e8a86e9.jpg: 640x640 1 Machinery, 58.8ms\n",
      "Speed: 1.1ms preprocess, 58.8ms inference, 0.9ms postprocess per image at shape (1, 3, 640, 640)\n",
      "\n",
      "image 1/1 /home/maxime/DataDevIA/computervision/datasetcomputervision/css-data/valid/images/soooo_jpg.rf.5980d39f656b4d62672d2164173455e3.jpg: 640x640 2 Masks, 6 NO-Hardhats, 1 NO-Mask, 3 NO-Safety Vests, 7 Persons, 56.0ms\n",
      "Speed: 1.8ms preprocess, 56.0ms inference, 0.9ms postprocess per image at shape (1, 3, 640, 640)\n",
      "Colonnes retournées : ['image_path', 'detected_boxes', 'detected_classes']\n"
     ]
    },
    {
     "data": {
      "application/vnd.microsoft.datawrangler.viewer.v0+json": {
       "columns": [
        {
         "name": "index",
         "rawType": "int64",
         "type": "integer"
        },
        {
         "name": "image_path",
         "rawType": "object",
         "type": "string"
        },
        {
         "name": "detected_boxes",
         "rawType": "object",
         "type": "unknown"
        },
        {
         "name": "detected_classes",
         "rawType": "object",
         "type": "unknown"
        }
       ],
       "ref": "fb8fce87-766b-4238-9ba6-6bbb390f3608",
       "rows": [
        [
         "0",
         "/home/maxime/DataDevIA/computervision/datasetcomputervision/css-data/valid/images/construction-277-_jpg.rf.bf73a4edc7a1f7d412bc3267cbafcda7.jpg",
         "[{'label': 'Machinery', 'confidence': 0.6039379239082336, 'coords': (12, 145, 530, 621)}, {'label': 'Machinery', 'confidence': 0.42112821340560913, 'coords': (540, 240, 640, 524)}]",
         "['Machinery']"
        ],
        [
         "1",
         "/home/maxime/DataDevIA/computervision/datasetcomputervision/css-data/valid/images/autox4_mp4-72_jpg.rf.5e9c1836f027bf40eb8898e68f2efdeb.jpg",
         "[{'label': 'Vehicle', 'confidence': 0.9342144727706909, 'coords': (184, 279, 528, 640)}, {'label': 'Safety Cone', 'confidence': 0.8318148851394653, 'coords': (546, 307, 571, 361)}, {'label': 'Safety Cone', 'confidence': 0.8115582466125488, 'coords': (388, 257, 409, 300)}, {'label': 'Safety Cone', 'confidence': 0.7483271360397339, 'coords': (279, 254, 298, 293)}, {'label': 'Safety Cone', 'confidence': 0.7124741673469543, 'coords': (126, 273, 138, 297)}, {'label': 'Safety Cone', 'confidence': 0.6893256306648254, 'coords': (68, 286, 78, 307)}, {'label': 'Safety Cone', 'confidence': 0.6797049045562744, 'coords': (195, 261, 211, 295)}, {'label': 'Safety Cone', 'confidence': 0.4783976972103119, 'coords': (14, 306, 23, 325)}, {'label': 'Safety Cone', 'confidence': 0.32435286045074463, 'coords': (0, 456, 9, 488)}]",
         "['Safety Cone', 'Vehicle']"
        ],
        [
         "2",
         "/home/maxime/DataDevIA/computervision/datasetcomputervision/css-data/valid/images/IMG_3103_mp4-17_jpg.rf.3223d405c1b3657aa54e170e32c8fe52.jpg",
         "[{'label': 'Person', 'confidence': 0.9589268565177917, 'coords': (0, 39, 639, 636)}, {'label': 'Mask', 'confidence': 0.788486897945404, 'coords': (160, 198, 537, 418)}, {'label': 'NO-Safety Vest', 'confidence': 0.6632267832756042, 'coords': (0, 322, 640, 639)}, {'label': 'NO-Hardhat', 'confidence': 0.5040774345397949, 'coords': (122, 13, 551, 184)}]",
         "['Mask', 'NO-Hardhat', 'NO-Safety Vest', 'Person']"
        ],
        [
         "3",
         "/home/maxime/DataDevIA/computervision/datasetcomputervision/css-data/valid/images/youtube-226_jpg.rf.dd9d045ca17155289bcebe722e8a86e9.jpg",
         "[{'label': 'Machinery', 'confidence': 0.8362186551094055, 'coords': (203, 156, 357, 438)}]",
         "['Machinery']"
        ],
        [
         "4",
         "/home/maxime/DataDevIA/computervision/datasetcomputervision/css-data/valid/images/soooo_jpg.rf.5980d39f656b4d62672d2164173455e3.jpg",
         "[{'label': 'Person', 'confidence': 0.9492028951644897, 'coords': (17, 122, 217, 637)}, {'label': 'NO-Hardhat', 'confidence': 0.8840208053588867, 'coords': (139, 183, 213, 275)}, {'label': 'Person', 'confidence': 0.8395517468452454, 'coords': (559, 28, 639, 431)}, {'label': 'NO-Hardhat', 'confidence': 0.8040798306465149, 'coords': (372, 117, 408, 147)}, {'label': 'NO-Hardhat', 'confidence': 0.796410322189331, 'coords': (593, 33, 639, 82)}, {'label': 'Person', 'confidence': 0.644263744354248, 'coords': (374, 0, 577, 559)}, {'label': 'NO-Hardhat', 'confidence': 0.6320476531982422, 'coords': (398, 0, 463, 32)}, {'label': 'NO-Safety Vest', 'confidence': 0.6185526847839355, 'coords': (569, 113, 639, 246)}, {'label': 'NO-Safety Vest', 'confidence': 0.6123783588409424, 'coords': (357, 173, 406, 240)}, {'label': 'Person', 'confidence': 0.6057596206665039, 'coords': (217, 59, 577, 640)}, {'label': 'Mask', 'confidence': 0.5687118172645569, 'coords': (394, 152, 411, 184)}, {'label': 'Mask', 'confidence': 0.5499812960624695, 'coords': (158, 301, 202, 346)}, {'label': 'Person', 'confidence': 0.5335718393325806, 'coords': (214, 107, 490, 640)}, {'label': 'NO-Mask', 'confidence': 0.5176052451133728, 'coords': (415, 64, 450, 125)}, {'label': 'NO-Hardhat', 'confidence': 0.47156673669815063, 'coords': (114, 122, 159, 173)}, {'label': 'NO-Hardhat', 'confidence': 0.35501402616500854, 'coords': (113, 121, 161, 193)}, {'label': 'Person', 'confidence': 0.3391011655330658, 'coords': (349, 113, 419, 378)}, {'label': 'NO-Safety Vest', 'confidence': 0.2651727795600891, 'coords': (399, 69, 557, 318)}, {'label': 'Person', 'confidence': 0.259971022605896, 'coords': (326, 52, 572, 639)}]",
         "['Mask', 'NO-Hardhat', 'NO-Mask', 'NO-Safety Vest', 'Person']"
        ]
       ],
       "shape": {
        "columns": 3,
        "rows": 5
       }
      },
      "text/html": [
       "<div>\n",
       "<style scoped>\n",
       "    .dataframe tbody tr th:only-of-type {\n",
       "        vertical-align: middle;\n",
       "    }\n",
       "\n",
       "    .dataframe tbody tr th {\n",
       "        vertical-align: top;\n",
       "    }\n",
       "\n",
       "    .dataframe thead th {\n",
       "        text-align: right;\n",
       "    }\n",
       "</style>\n",
       "<table border=\"1\" class=\"dataframe\">\n",
       "  <thead>\n",
       "    <tr style=\"text-align: right;\">\n",
       "      <th></th>\n",
       "      <th>image_path</th>\n",
       "      <th>detected_boxes</th>\n",
       "      <th>detected_classes</th>\n",
       "    </tr>\n",
       "  </thead>\n",
       "  <tbody>\n",
       "    <tr>\n",
       "      <th>0</th>\n",
       "      <td>/home/maxime/DataDevIA/computervision/datasetc...</td>\n",
       "      <td>[{'label': 'Machinery', 'confidence': 0.603937...</td>\n",
       "      <td>[Machinery]</td>\n",
       "    </tr>\n",
       "    <tr>\n",
       "      <th>1</th>\n",
       "      <td>/home/maxime/DataDevIA/computervision/datasetc...</td>\n",
       "      <td>[{'label': 'Vehicle', 'confidence': 0.93421447...</td>\n",
       "      <td>[Safety Cone, Vehicle]</td>\n",
       "    </tr>\n",
       "    <tr>\n",
       "      <th>2</th>\n",
       "      <td>/home/maxime/DataDevIA/computervision/datasetc...</td>\n",
       "      <td>[{'label': 'Person', 'confidence': 0.958926856...</td>\n",
       "      <td>[Mask, NO-Hardhat, NO-Safety Vest, Person]</td>\n",
       "    </tr>\n",
       "    <tr>\n",
       "      <th>3</th>\n",
       "      <td>/home/maxime/DataDevIA/computervision/datasetc...</td>\n",
       "      <td>[{'label': 'Machinery', 'confidence': 0.836218...</td>\n",
       "      <td>[Machinery]</td>\n",
       "    </tr>\n",
       "    <tr>\n",
       "      <th>4</th>\n",
       "      <td>/home/maxime/DataDevIA/computervision/datasetc...</td>\n",
       "      <td>[{'label': 'Person', 'confidence': 0.949202895...</td>\n",
       "      <td>[Mask, NO-Hardhat, NO-Mask, NO-Safety Vest, Pe...</td>\n",
       "    </tr>\n",
       "  </tbody>\n",
       "</table>\n",
       "</div>"
      ],
      "text/plain": [
       "                                          image_path  \\\n",
       "0  /home/maxime/DataDevIA/computervision/datasetc...   \n",
       "1  /home/maxime/DataDevIA/computervision/datasetc...   \n",
       "2  /home/maxime/DataDevIA/computervision/datasetc...   \n",
       "3  /home/maxime/DataDevIA/computervision/datasetc...   \n",
       "4  /home/maxime/DataDevIA/computervision/datasetc...   \n",
       "\n",
       "                                      detected_boxes  \\\n",
       "0  [{'label': 'Machinery', 'confidence': 0.603937...   \n",
       "1  [{'label': 'Vehicle', 'confidence': 0.93421447...   \n",
       "2  [{'label': 'Person', 'confidence': 0.958926856...   \n",
       "3  [{'label': 'Machinery', 'confidence': 0.836218...   \n",
       "4  [{'label': 'Person', 'confidence': 0.949202895...   \n",
       "\n",
       "                                    detected_classes  \n",
       "0                                        [Machinery]  \n",
       "1                             [Safety Cone, Vehicle]  \n",
       "2         [Mask, NO-Hardhat, NO-Safety Vest, Person]  \n",
       "3                                        [Machinery]  \n",
       "4  [Mask, NO-Hardhat, NO-Mask, NO-Safety Vest, Pe...  "
      ]
     },
     "metadata": {},
     "output_type": "display_data"
    },
    {
     "data": {
      "application/vnd.microsoft.datawrangler.viewer.v0+json": {
       "columns": [
        {
         "name": "index",
         "rawType": "int64",
         "type": "integer"
        },
        {
         "name": "image_path",
         "rawType": "object",
         "type": "string"
        },
        {
         "name": "detected_classes",
         "rawType": "object",
         "type": "unknown"
        }
       ],
       "ref": "120e7c1d-d6dd-4ae1-8e6b-b3800452862c",
       "rows": [
        [
         "0",
         "/home/maxime/DataDevIA/computervision/datasetcomputervision/css-data/valid/images/construction-277-_jpg.rf.bf73a4edc7a1f7d412bc3267cbafcda7.jpg",
         "['Machinery']"
        ],
        [
         "1",
         "/home/maxime/DataDevIA/computervision/datasetcomputervision/css-data/valid/images/autox4_mp4-72_jpg.rf.5e9c1836f027bf40eb8898e68f2efdeb.jpg",
         "['Safety Cone', 'Vehicle']"
        ],
        [
         "2",
         "/home/maxime/DataDevIA/computervision/datasetcomputervision/css-data/valid/images/IMG_3103_mp4-17_jpg.rf.3223d405c1b3657aa54e170e32c8fe52.jpg",
         "['Mask', 'NO-Hardhat', 'NO-Safety Vest', 'Person']"
        ],
        [
         "3",
         "/home/maxime/DataDevIA/computervision/datasetcomputervision/css-data/valid/images/youtube-226_jpg.rf.dd9d045ca17155289bcebe722e8a86e9.jpg",
         "['Machinery']"
        ],
        [
         "4",
         "/home/maxime/DataDevIA/computervision/datasetcomputervision/css-data/valid/images/soooo_jpg.rf.5980d39f656b4d62672d2164173455e3.jpg",
         "['Mask', 'NO-Hardhat', 'NO-Mask', 'NO-Safety Vest', 'Person']"
        ]
       ],
       "shape": {
        "columns": 2,
        "rows": 5
       }
      },
      "text/html": [
       "<div>\n",
       "<style scoped>\n",
       "    .dataframe tbody tr th:only-of-type {\n",
       "        vertical-align: middle;\n",
       "    }\n",
       "\n",
       "    .dataframe tbody tr th {\n",
       "        vertical-align: top;\n",
       "    }\n",
       "\n",
       "    .dataframe thead th {\n",
       "        text-align: right;\n",
       "    }\n",
       "</style>\n",
       "<table border=\"1\" class=\"dataframe\">\n",
       "  <thead>\n",
       "    <tr style=\"text-align: right;\">\n",
       "      <th></th>\n",
       "      <th>image_path</th>\n",
       "      <th>detected_classes</th>\n",
       "    </tr>\n",
       "  </thead>\n",
       "  <tbody>\n",
       "    <tr>\n",
       "      <th>0</th>\n",
       "      <td>/home/maxime/DataDevIA/computervision/datasetc...</td>\n",
       "      <td>[Machinery]</td>\n",
       "    </tr>\n",
       "    <tr>\n",
       "      <th>1</th>\n",
       "      <td>/home/maxime/DataDevIA/computervision/datasetc...</td>\n",
       "      <td>[Safety Cone, Vehicle]</td>\n",
       "    </tr>\n",
       "    <tr>\n",
       "      <th>2</th>\n",
       "      <td>/home/maxime/DataDevIA/computervision/datasetc...</td>\n",
       "      <td>[Mask, NO-Hardhat, NO-Safety Vest, Person]</td>\n",
       "    </tr>\n",
       "    <tr>\n",
       "      <th>3</th>\n",
       "      <td>/home/maxime/DataDevIA/computervision/datasetc...</td>\n",
       "      <td>[Machinery]</td>\n",
       "    </tr>\n",
       "    <tr>\n",
       "      <th>4</th>\n",
       "      <td>/home/maxime/DataDevIA/computervision/datasetc...</td>\n",
       "      <td>[Mask, NO-Hardhat, NO-Mask, NO-Safety Vest, Pe...</td>\n",
       "    </tr>\n",
       "  </tbody>\n",
       "</table>\n",
       "</div>"
      ],
      "text/plain": [
       "                                          image_path  \\\n",
       "0  /home/maxime/DataDevIA/computervision/datasetc...   \n",
       "1  /home/maxime/DataDevIA/computervision/datasetc...   \n",
       "2  /home/maxime/DataDevIA/computervision/datasetc...   \n",
       "3  /home/maxime/DataDevIA/computervision/datasetc...   \n",
       "4  /home/maxime/DataDevIA/computervision/datasetc...   \n",
       "\n",
       "                                    detected_classes  \n",
       "0                                        [Machinery]  \n",
       "1                             [Safety Cone, Vehicle]  \n",
       "2         [Mask, NO-Hardhat, NO-Safety Vest, Person]  \n",
       "3                                        [Machinery]  \n",
       "4  [Mask, NO-Hardhat, NO-Mask, NO-Safety Vest, Pe...  "
      ]
     },
     "metadata": {},
     "output_type": "display_data"
    }
   ],
   "source": [
    "import glob, pandas as pd\n",
    "\n",
    "# 1) Petit échantillon de 5 images de validation\n",
    "sample_imgs = glob.glob(str(CFG.DATA_DIR / \"valid\" / \"images\" / \"*.jpg\"))[:5]\n",
    "if not sample_imgs:\n",
    "    raise ValueError(\"Aucune image trouvée dans le dossier de validation.\")\n",
    "\n",
    "# 2) Exécuter la détection – renvoie df_details avec colonnes ['image_path','detected_boxes','detected_classes']\n",
    "df_details = detect_all_classes(sample_imgs)\n",
    "\n",
    "# 3) Afficher un aperçu\n",
    "print(\"Colonnes retournées :\", list(df_details.columns))\n",
    "display(df_details.head())\n",
    "\n",
    "if df_details.empty:\n",
    "    print(\"⚠️  Aucune détection retournée. Vérifiez que le modèle fonctionne ou essayez d’autres images.\")\n",
    "else:\n",
    "    # 4) On a déjà une colonne 'detected_classes' par ligne-image\n",
    "    df_summary = df_details[['image_path', 'detected_classes']].copy()\n",
    "    display(df_summary)\n",
    "\n",
    "\n",
    "\n"
   ]
  }
 ],
 "metadata": {
  "kernelspec": {
   "display_name": ".venv",
   "language": "python",
   "name": "python3"
  },
  "language_info": {
   "codemirror_mode": {
    "name": "ipython",
    "version": 3
   },
   "file_extension": ".py",
   "mimetype": "text/x-python",
   "name": "python",
   "nbconvert_exporter": "python",
   "pygments_lexer": "ipython3",
   "version": "3.12.3"
  }
 },
 "nbformat": 4,
 "nbformat_minor": 5
}
